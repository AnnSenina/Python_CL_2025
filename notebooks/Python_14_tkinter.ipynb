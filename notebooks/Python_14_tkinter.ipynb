{
 "cells": [
  {
   "cell_type": "markdown",
   "id": "e4219fde",
   "metadata": {},
   "source": [
    "# Начало работы\n",
    "\n",
    "Руководство [здесь](https://metanit.com/python/tkinter/)"
   ]
  },
  {
   "cell_type": "code",
   "execution_count": null,
   "id": "417b4ea3",
   "metadata": {
    "scrolled": true
   },
   "outputs": [],
   "source": [
    "!pip install tk\n",
    "# % для VS Code"
   ]
  },
  {
   "cell_type": "code",
   "execution_count": 2,
   "id": "711dbc35",
   "metadata": {},
   "outputs": [],
   "source": [
    "import tkinter as tk\n",
    "from tkinter import *\n",
    "from tkinter import messagebox\n",
    "from tkinter import filedialog"
   ]
  },
  {
   "cell_type": "code",
   "execution_count": null,
   "id": "0049d8ff",
   "metadata": {},
   "outputs": [],
   "source": [
    "# установки библиотек\n",
    "!pip install wordcloud\n",
    "!pip install pillow\n",
    "!pip install pymorphy3 \n",
    "!pip install torch\n",
    "!pip install transformers\n",
    "\n",
    "# % для VS Code"
   ]
  },
  {
   "cell_type": "code",
   "execution_count": null,
   "id": "faa37865",
   "metadata": {
    "scrolled": true
   },
   "outputs": [],
   "source": [
    "# для очистки (препроцессинга) текста...\n",
    "import nltk\n",
    "from nltk.tokenize import sent_tokenize, word_tokenize\n",
    "#nltk.download('punkt_tab')\n",
    "from nltk.corpus import stopwords\n",
    "#nltk.download('stopwords')\n",
    "ru_stop_words = stopwords.words('russian')\n",
    "\n",
    "# pymorphy\n",
    "from pymorphy3 import MorphAnalyzer\n",
    "morph = MorphAnalyzer()\n",
    "\n",
    "#таблички\n",
    "import pandas as pd\n",
    "\n",
    "# для рисования облака слов\n",
    "from wordcloud import WordCloud\n",
    "import matplotlib.pyplot as plt\n",
    "\n",
    "# для подсчета любых частот (часто встречающиеся слова, n-граммы и т.д.)\n",
    "from collections import Counter\n",
    "\n",
    "# картинки\n",
    "from PIL import ImageTk, Image  "
   ]
  },
  {
   "cell_type": "code",
   "execution_count": null,
   "id": "5c2f91ab-2ccf-4aeb-9316-a8482ca31344",
   "metadata": {
    "scrolled": true
   },
   "outputs": [],
   "source": [
    "# сентимент-анализ\n",
    "\n",
    "import torch\n",
    "from transformers import AutoModelForSequenceClassification\n",
    "from transformers import BertTokenizerFast\n",
    "tokenizer_sentiment = BertTokenizerFast.from_pretrained('blanchefort/rubert-base-cased-sentiment')\n",
    "model_sentiment = AutoModelForSequenceClassification.from_pretrained('blanchefort/rubert-base-cased-sentiment', return_dict=True)"
   ]
  },
  {
   "cell_type": "code",
   "execution_count": 6,
   "id": "25e460aa",
   "metadata": {},
   "outputs": [],
   "source": [
    "tk._test()"
   ]
  },
  {
   "cell_type": "code",
   "execution_count": 7,
   "id": "c362c48b",
   "metadata": {},
   "outputs": [],
   "source": [
    "window = Tk()\n",
    "window.title(\"Первая программа\")\n",
    "window.mainloop() # вызывает окошко"
   ]
  },
  {
   "cell_type": "code",
   "execution_count": 8,
   "id": "0a498980",
   "metadata": {},
   "outputs": [],
   "source": [
    "window = Tk()\n",
    "window.title(\"Первая программа\")\n",
    "window.geometry('500x400') # размер окошечка\n",
    "window.mainloop()"
   ]
  },
  {
   "cell_type": "code",
   "execution_count": 9,
   "id": "919a5793",
   "metadata": {},
   "outputs": [],
   "source": [
    "window = Tk()\n",
    "window.title(\"Первая программа\")\n",
    "window.geometry('500x400') # размер окошечка\n",
    "\n",
    "lbl = Label(window, text=\"Привет, мир\", font=(\"Arial\", 30))  \n",
    "lbl.pack() \n",
    "window.mainloop()"
   ]
  },
  {
   "cell_type": "code",
   "execution_count": 10,
   "id": "978c5259",
   "metadata": {},
   "outputs": [],
   "source": [
    "window = Tk()\n",
    "window.title(\"Первая программа\")\n",
    "window.geometry('500x400') # размер окошечка\n",
    "\n",
    "btn = Button(window, \n",
    "             text=\"Просто кнопка\") # текст на кнопке\n",
    "btn.pack() # расположить кнопку на главном окне\n",
    "\n",
    "window.mainloop()"
   ]
  },
  {
   "cell_type": "code",
   "execution_count": null,
   "id": "884648ce",
   "metadata": {
    "scrolled": true
   },
   "outputs": [],
   "source": [
    "def Hello(event):\n",
    "    print(\"Здравствуй, мир!\")\n",
    "\n",
    "window = Tk()\n",
    "window.title(\"Первая программа\")\n",
    "window.geometry('500x400') # размер окошечка\n",
    "\n",
    "btn = Button(window,                  \n",
    "             text=\"Приветствие\",     #надпись на кнопке\n",
    "             width=30, height=5,     #ширина и высота\n",
    "             bg=\"white\", fg=\"black\") #цвет фона и надписи\n",
    "btn.bind(\"<Button-1>\", Hello)        #при нажатии ЛКМ на кнопку вызывается функция Hello\n",
    "btn.pack()                           #расположить кнопку на главном окне\n",
    "\n",
    "window.mainloop()"
   ]
  },
  {
   "cell_type": "markdown",
   "id": "eecee912",
   "metadata": {},
   "source": [
    "Добавим для кнопки какое-нибудь действие..."
   ]
  },
  {
   "cell_type": "code",
   "execution_count": 12,
   "id": "cda8c745",
   "metadata": {},
   "outputs": [],
   "source": [
    "def Hello(event):\n",
    "    messagebox.showinfo(title=\"Приветствие\", message = \"Здравствуй, мир!\") #Добавляем событие для функции\n",
    "\n",
    "window = Tk()\n",
    "window.title(\"Первая программа\")\n",
    "window.geometry('500x400') # размер окошечка\n",
    "\n",
    "btn = Button(window,                  \n",
    "             text=\"Приветствие\",     #надпись на кнопке\n",
    "             width=30, height=5,     #ширина и высота\n",
    "             bg=\"white\", fg=\"black\", #цвет фона и надписи\n",
    "             font='Arial',           #шрифт надписи\n",
    "             command=Hello)          #gозволяет запустить событие с функцией при нажатии на кнопку.\n",
    "\n",
    "btn.bind(\"<Button-1>\", Hello)        #при нажатии ЛКМ на кнопку вызывается функция Hello\n",
    "btn.pack()                           #расположить кнопку на главном окне\n",
    "\n",
    "window.mainloop()"
   ]
  },
  {
   "cell_type": "markdown",
   "id": "63435841",
   "metadata": {},
   "source": [
    "# Пишем NLP-программу"
   ]
  },
  {
   "cell_type": "code",
   "execution_count": 13,
   "id": "b75ac504",
   "metadata": {},
   "outputs": [],
   "source": [
    "def get_ru_lemm(text):\n",
    "  text = text.lower()\n",
    "  text_tokens = word_tokenize(text)\n",
    "  clean_tokens = []\n",
    "  for i in text_tokens:\n",
    "    if i[0].isalpha() and i not in ru_stop_words:\n",
    "      clean_tokens.append(i)\n",
    "  ru_lemmatized = []\n",
    "  for word in clean_tokens:\n",
    "      ru_lemmatized.append(morph.parse(word)[0].normal_form)\n",
    "  return ru_lemmatized\n",
    "\n",
    "def n_grams(lemm):\n",
    "  freq_bigramms = Counter(nltk.bigrams(lemm)).most_common(10)\n",
    "  res_bigramms = []\n",
    "  for i, j in freq_bigramms:\n",
    "    res_bigramms.append(''.join((' '.join(i)) + ': ' + str(j)))\n",
    "  freq_trigramms = Counter(nltk.trigrams(lemm)).most_common(5)\n",
    "  res_trigramms = []\n",
    "  for i, j in freq_trigramms:\n",
    "    res_trigramms.append(''.join((' '.join(i)) + ': ' + str(j)))\n",
    "  return res_bigramms, res_trigramms\n",
    "\n",
    "def word_cloud(lemm):\n",
    "  wordcloud = WordCloud(width = 1000,\n",
    "                        height = 750,\n",
    "                        background_color='white',\n",
    "                        colormap='tab10').generate(', '.join(lemm))\n",
    "  plt.figure(figsize=(20, 15)) # Устанавливаем размер картинки\n",
    "  plt.imshow(wordcloud) # Что изображаем\n",
    "  plt.axis(\"off\") # Без подписей на осях\n",
    "  plt.savefig('wordcoud')\n",
    "\n",
    "def predict_bert(lemm):\n",
    "  positive = []\n",
    "  negative = []\n",
    "  for i in lemm:\n",
    "    inputs = tokenizer_sentiment(i, max_length=512, padding=True, truncation=True, return_tensors='pt')\n",
    "    outputs = model_sentiment(**inputs)\n",
    "    predicted = torch.nn.functional.softmax(outputs.logits, dim=1)\n",
    "    predicted = torch.topk(predicted, k=1)\n",
    "    if predicted.indices.detach().numpy()[0] == 1:\n",
    "      positive.append((i, float(predicted.values.detach().numpy()[0][0])))\n",
    "    elif predicted.indices.detach().numpy()[0] == 2:\n",
    "      negative.append((i, float(predicted.values.detach().numpy()[0][0])))\n",
    "  positive.sort(key=lambda x: x[1], reverse=True)\n",
    "  negative.sort(key=lambda x: x[1], reverse=True)\n",
    "  most_positive_words = []\n",
    "  for w, v in positive:\n",
    "    if w not in most_positive_words:\n",
    "      most_positive_words.append(w)\n",
    "    if len(most_positive_words) < 5:\n",
    "      continue\n",
    "    else:\n",
    "      break\n",
    "  most_negative_words = []\n",
    "  for w, v in negative:\n",
    "    if w not in most_negative_words:\n",
    "      most_negative_words.append(w)\n",
    "    if len(most_negative_words) < 5:\n",
    "      continue\n",
    "    else:\n",
    "      break\n",
    "  return most_positive_words, most_negative_words"
   ]
  },
  {
   "cell_type": "markdown",
   "id": "6149f627-a7ef-47de-84fb-36ce746064de",
   "metadata": {},
   "source": [
    "### Добаляем ей кнопку для загрузки текста пользователем"
   ]
  },
  {
   "cell_type": "code",
   "execution_count": 14,
   "id": "eded0c32",
   "metadata": {
    "scrolled": true
   },
   "outputs": [],
   "source": [
    "def openFile():\n",
    "    tf = filedialog.askopenfilename(\n",
    "        initialdir=\"home/\", # \"C:/Users/.../Desktop/\"\n",
    "        title=\"Open Text file\", \n",
    "        filetypes=((\"Text Files\", \"*.txt\"),)\n",
    "        )\n",
    "    pathh.insert(END, tf)\n",
    "    tf = open(tf, 'r')\n",
    "    data = tf.read()\n",
    "    txtarea.insert(END, data)\n",
    "    tf.close()\n",
    "\n",
    "window = Tk()\n",
    "window.title(\"Мини-анализ текста\")\n",
    "window.geometry('800x600') \n",
    "\n",
    "txtarea = Text(window, width=40, height=20)\n",
    "txtarea.pack(pady=20)\n",
    "\n",
    "pathh = Entry(window)\n",
    "pathh.pack(side=LEFT, expand=True, fill=X, padx=20)\n",
    "\n",
    "Button(\n",
    "    window, \n",
    "    text=\"Открыть файл\", \n",
    "    command=openFile\n",
    "    ).pack(side=RIGHT, expand=True, fill=X, padx=20)\n",
    "\n",
    "window.mainloop()"
   ]
  },
  {
   "cell_type": "markdown",
   "id": "c27d262b",
   "metadata": {},
   "source": [
    "### Финальная версия"
   ]
  },
  {
   "cell_type": "code",
   "execution_count": null,
   "id": "1f2dc6d6",
   "metadata": {},
   "outputs": [],
   "source": [
    "def open_img():\n",
    "    img = Image.open(\"wordcoud.png\")\n",
    "    img = img.resize((500, 400), Image.Resampling.LANCZOS)\n",
    "    img = ImageTk.PhotoImage(img)\n",
    "    panel = Label(window, image=img)\n",
    "    panel.image = img\n",
    "    panel.grid(column=0, row=3)\n",
    "\n",
    "def openFile():\n",
    "    tf = filedialog.askopenfilename(\n",
    "        initialdir=\"home/\", # \"C:/Users/MainFrame/Desktop/\"\n",
    "        title=\"Open Text file\", \n",
    "        filetypes=((\"Text Files\", \"*.txt\"),)\n",
    "        )\n",
    "    pathh.insert(END, tf)\n",
    "    tf = open(tf, 'r')\n",
    "    data = tf.read()\n",
    "    \n",
    "    lemm = get_ru_lemm(data)\n",
    "    txtarea.insert(END, ', '.join(lemm))\n",
    "    \n",
    "    ngram = n_grams(lemm)\n",
    "    txtarea2.insert(END, '\\n'.join(ngram[0]) + '\\n\\n' +\n",
    "                   '\\n'.join(ngram[1]))\n",
    "    \n",
    "    sent = predict_bert(lemm)\n",
    "    txtarea3.insert(END, 'Позитивно окрашенные слова: \\n' + ', '.join(sent[0]) + '\\n\\n' +\n",
    "                   'Негативно окрашенные слова: \\n' + ', '.join(sent[1]))\n",
    "    \n",
    "    word_cloud(lemm)\n",
    "    \n",
    "    tf.close()\n",
    "\n",
    "window = Tk()\n",
    "window.title(\"Мини-анализ текста\")\n",
    "window.geometry('1150x1000') \n",
    "\n",
    "txtarea = Text(window, width=160, height=20)\n",
    "txtarea.grid(column=0, row=0, padx=5, pady=5)\n",
    "                   \n",
    "txtarea2 = Text(window, width=75, height=20)\n",
    "txtarea2.grid(column=0, row=1, sticky='w', padx=5, pady=5)\n",
    "\n",
    "txtarea3 = Text(window, width=75, height=20)\n",
    "txtarea3.grid(column=0, row=1, sticky='e', padx=5, pady=5)\n",
    "\n",
    "pathh = Entry(window, width=100)\n",
    "pathh.grid(column=0, row=2, padx=5, pady=5)\n",
    "\n",
    "open_button = Button(\n",
    "    window, \n",
    "    text=\"Загрузите файл\", \n",
    "    command=openFile,\n",
    "    width=30, height=5\n",
    "    )\n",
    "open_button.grid(column=0, row=3, sticky='w', padx=5, pady=5)\n",
    "\n",
    "img_btn = Button(window, \n",
    "                 text='Облако слов', \n",
    "                 command=open_img,\n",
    "                 width=30, height=5)\n",
    "img_btn.grid(column=0, row=3, sticky='e')\n",
    "\n",
    "window.mainloop()"
   ]
  }
 ],
 "metadata": {
  "kernelspec": {
   "display_name": "Python 3 (ipykernel)",
   "language": "python",
   "name": "python3"
  },
  "language_info": {
   "codemirror_mode": {
    "name": "ipython",
    "version": 3
   },
   "file_extension": ".py",
   "mimetype": "text/x-python",
   "name": "python",
   "nbconvert_exporter": "python",
   "pygments_lexer": "ipython3",
   "version": "3.12.7"
  }
 },
 "nbformat": 4,
 "nbformat_minor": 5
}
