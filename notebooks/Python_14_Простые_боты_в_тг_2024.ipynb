{
  "nbformat": 4,
  "nbformat_minor": 0,
  "metadata": {
    "colab": {
      "provenance": [],
      "include_colab_link": true
    },
    "kernelspec": {
      "name": "python3",
      "display_name": "Python 3"
    },
    "language_info": {
      "name": "python"
    }
  },
  "cells": [
    {
      "cell_type": "markdown",
      "metadata": {
        "id": "view-in-github",
        "colab_type": "text"
      },
      "source": [
        "<a href=\"https://colab.research.google.com/github/AnnSenina/Python_CL_2025/blob/main/notebooks/Python_14_%D0%9F%D1%80%D0%BE%D1%81%D1%82%D1%8B%D0%B5_%D0%B1%D0%BE%D1%82%D1%8B_%D0%B2_%D1%82%D0%B3_2024.ipynb\" target=\"_parent\"><img src=\"https://colab.research.google.com/assets/colab-badge.svg\" alt=\"Open In Colab\"/></a>"
      ]
    },
    {
      "cell_type": "markdown",
      "source": [
        "# Чат-боты\n",
        "\n",
        "Для настроения, сначала смотрим [ролик](https://www.youtube.com/watch?v=M1sQmZrDBz4) (Из сериала \"Детство Шелдона\", один из первых чат-ботов Eliza)\n",
        "\n",
        "А вот [забавная имитация](https://web.njit.edu/~ronkowit/eliza.html) Элайзы"
      ],
      "metadata": {
        "id": "DFb4Bi3cMZcG"
      }
    },
    {
      "cell_type": "markdown",
      "source": [
        "## Установим библиотеки\n",
        "\n",
        "Документация этой библиотеки [здесь](https://pytba.readthedocs.io/ru/latest/sync_version/index.html)\n",
        "\n",
        "Просто запустите команды ниже"
      ],
      "metadata": {
        "id": "uTNXlsUjSWXG"
      }
    },
    {
      "cell_type": "code",
      "source": [
        "!pip install pytelegrambotapi"
      ],
      "metadata": {
        "id": "oLDarhv4zTC9"
      },
      "execution_count": null,
      "outputs": []
    },
    {
      "cell_type": "code",
      "source": [
        "import telebot\n",
        "from telebot import types"
      ],
      "metadata": {
        "id": "lu0qni_aL-Gz"
      },
      "execution_count": null,
      "outputs": []
    },
    {
      "cell_type": "markdown",
      "source": [
        "Создайте бота в телеграме с помощью @BotFather https://t.me/BotFather\n",
        "\n",
        "Получите у него токен"
      ],
      "metadata": {
        "id": "0K7FQ2jJSkPt"
      }
    },
    {
      "cell_type": "code",
      "source": [
        "# внутри кавычек впишите токен вашего бота\n",
        "your_bot = \"\""
      ],
      "metadata": {
        "id": "kxBnmAe4lB8B"
      },
      "execution_count": null,
      "outputs": []
    },
    {
      "cell_type": "code",
      "source": [
        "# эту команду обязательно запускаем перед тем, как научить бот чему-то новому\n",
        "bot = telebot.TeleBot(your_bot)"
      ],
      "metadata": {
        "id": "Mw9mlWGMSjXn"
      },
      "execution_count": null,
      "outputs": []
    },
    {
      "cell_type": "code",
      "source": [
        "# научим бота отвечать на команду /start\n",
        "@bot.message_handler(commands=[\"start\"])\n",
        "def start(message, res=False):\n",
        "  bot.send_message(message.chat.id, 'Добрый день! Это пробный бот марафона Homo Digitus. Давайте посмотрим, как это работает :)')"
      ],
      "metadata": {
        "id": "dTmJ0cR9VGV-"
      },
      "execution_count": null,
      "outputs": []
    },
    {
      "cell_type": "code",
      "source": [
        "# Запускаем бота\n",
        "bot.polling(none_stop=True, interval=0)"
      ],
      "metadata": {
        "id": "oksejD3Jo1I_"
      },
      "execution_count": null,
      "outputs": []
    },
    {
      "cell_type": "markdown",
      "source": [
        "## Что умеет бот?"
      ],
      "metadata": {
        "id": "gVq5Pq3qS4A6"
      }
    },
    {
      "cell_type": "markdown",
      "source": [
        "## 1. Отправлять сообщения (пока текстовые)"
      ],
      "metadata": {
        "id": "rx75mHOyKKXx"
      }
    },
    {
      "cell_type": "markdown",
      "source": [
        "Например, пусть бот кратко рассказывает о сегодняшней встрече"
      ],
      "metadata": {
        "id": "0-sLEkBnS7FL"
      }
    },
    {
      "cell_type": "code",
      "source": [
        "# создадим переменные = сообщения, который наш бот будет отправлять\n",
        "text1 = 'Продумайте сценарий вашего бота: лучше нарисуйте схему его работы - это поможет'\n",
        "text2 = 'Если требуется реализовать что-то более сложное: скорее зовите лектора, подумаем вместе'\n",
        "text3 = 'Бот должен уметь общаться с пользователем: всегда думайте о пользователе'\n",
        "text4 = 'В любой исторической теме можно найти интересный сюжет!'\n",
        "text5 = 'После просмотра примеров проведем мини-презентацию работ: потестируем ваших ботов!'\n",
        "text6 = '(∩｀-´)⊃━☆ﾟ.*･｡ﾟ'\n",
        "text7 = 'Я не понимаю тебя, напиши слово: Помощь'"
      ],
      "metadata": {
        "id": "AA7iE2CBS3xS"
      },
      "execution_count": null,
      "outputs": []
    },
    {
      "cell_type": "code",
      "source": [
        "# Обновите доступ через токен\n",
        "bot = telebot.TeleBot(your_bot)"
      ],
      "metadata": {
        "id": "47CB6lO50lKQ"
      },
      "execution_count": null,
      "outputs": []
    },
    {
      "cell_type": "code",
      "source": [
        "@bot.message_handler(commands=[\"start\"])\n",
        "def start(message, res=False):\n",
        "  bot.send_message(message.chat.id, 'Добрый день! Это пробный бот занятия. Давайте посмотрим, как это работает :) \\nНапиши: Помощь')\n",
        "\n",
        "@bot.message_handler(content_types=[\"text\"])\n",
        "def handle_text(message):\n",
        "  if message.text.strip().lower() in ['помощь', 'помощь.', 'помощь!', 'help']: # эту команду можно немножко улучшить\n",
        "    bot.send_message(message.chat.id, text1) # наше первое сообщение!\n",
        "    bot.send_message(message.chat.id, text2)\n",
        "    bot.send_message(message.chat.id, text3)\n",
        "    bot.send_message(message.chat.id, text4)\n",
        "    bot.send_message(message.chat.id, text5)\n",
        "    bot.send_message(message.chat.id, text6)\n",
        "  else:\n",
        "    bot.send_message(message.chat.id, text7) # последнее собщение, альтернативный исход\n",
        "\n",
        "# не забудьте запустить бота! Ниже:"
      ],
      "metadata": {
        "id": "1FiFaPynU87i"
      },
      "execution_count": null,
      "outputs": []
    },
    {
      "cell_type": "code",
      "source": [
        "# Запускаем бота\n",
        "bot.polling(none_stop=True, interval=0)"
      ],
      "metadata": {
        "id": "jJwNhUrkycze"
      },
      "execution_count": null,
      "outputs": []
    },
    {
      "cell_type": "markdown",
      "source": [
        "### Эхо-бот\n",
        "\n",
        "Повторяет всё"
      ],
      "metadata": {
        "id": "ApJ5u8KK63TT"
      }
    },
    {
      "cell_type": "code",
      "source": [
        "bot = telebot.TeleBot(your_bot)\n",
        "\n",
        "@bot.message_handler(commands=[\"start\"])\n",
        "def start(message, res=False):\n",
        "  bot.send_message(message.chat.id, 'Добрый день! Перед вами эхо-бот. Он просто повторяет ваши сообщения')\n",
        "\n",
        "@bot.message_handler(content_types=[\"text\"])\n",
        "def handle_text(message):\n",
        "  bot.send_message(message.chat.id, 'Ваше сообщение: ' + message.text)\n",
        "\n",
        "bot.polling(none_stop=True, interval=0)"
      ],
      "metadata": {
        "id": "m6WpF2N2624i"
      },
      "execution_count": null,
      "outputs": []
    },
    {
      "cell_type": "markdown",
      "source": [
        "## 2. Сохранять информацию\n",
        "\n",
        "Некий бонус, но давайте посмотрим его сразу\n",
        "\n",
        "Бот можно научить сохранять часть информации о пользователе и его сообщения"
      ],
      "metadata": {
        "id": "tAPCEbeYJqm_"
      }
    },
    {
      "cell_type": "code",
      "source": [
        "# давайте создадим csv-файл (табличку), пока пустую\n",
        "with open('users.csv', 'w', encoding='utf-8') as f:\n",
        "    print(*['id', 'first_name', 'last_name', 'nickname', 'message'], sep='\\t', file=f)\n",
        "\n",
        "# а теперь научим бот сохранять сообщения\n",
        "# только давайте предупредим пользователя, что его сообщения записываются"
      ],
      "metadata": {
        "id": "VU2oGQsB2yrG"
      },
      "execution_count": null,
      "outputs": []
    },
    {
      "cell_type": "code",
      "source": [
        "# Обновите доступ через токен\n",
        "bot = telebot.TeleBot(your_bot)\n",
        "\n",
        "@bot.message_handler(commands=[\"start\"])\n",
        "def start(message):\n",
        "  bot.send_message(message.chat.id, 'Добрый день! Этот бот будет собирать информацию о пользователе')\n",
        "  bot.send_message(message.chat.id, 'Оправляйте сообщения, а затем ведущий встречи покажет их на экране')\n",
        "\n",
        "@bot.message_handler(content_types=[\"text\"])\n",
        "def handle_text(message):\n",
        "  user = message.chat.id, message.from_user.first_name, message.from_user.last_name, message.from_user.username, message.text\n",
        "  with open('users.csv', 'a', encoding='utf-8') as f:\n",
        "    print(*user, sep='\\t', file=f)\n",
        "\n",
        "  # пока бот работает, информация записыватся в файл...\n",
        "\n",
        "# Запускаем бота\n",
        "bot.polling(none_stop=True, interval=0)"
      ],
      "metadata": {
        "id": "aT5YiadlyFAS"
      },
      "execution_count": null,
      "outputs": []
    },
    {
      "cell_type": "code",
      "source": [
        "# а вот эти команды помогут удобно прочитать наш файл с помощью чудесной библиотеки для работы с датафреймами (таблицами)\n",
        "import pandas as pd\n",
        "df_user = pd.read_csv('users.csv', sep='\\t')\n",
        "df_user"
      ],
      "metadata": {
        "id": "9iaROngG5EnJ"
      },
      "execution_count": null,
      "outputs": []
    },
    {
      "cell_type": "markdown",
      "source": [
        "## 3. Простой диалог: несколько веточек if-elif-else"
      ],
      "metadata": {
        "id": "ENDc2nCHymeG"
      }
    },
    {
      "cell_type": "markdown",
      "source": [
        "Ниже - пример бота, котрый я всегда показываю студентам как общий шаблон для if-elif-else\n",
        "\n",
        "Бот кажется разветвленным, но он очень линейный и простой, сейчас покопаемся в его коде"
      ],
      "metadata": {
        "id": "3D_4PfPhLubT"
      }
    },
    {
      "cell_type": "code",
      "source": [
        "# Для примера я использую картинку, ее можно скачать здесь: https://github.com/AnnSenina/Other/blob/main/when-should-i-start-to-worry-south-park.gif\n",
        "# Добавьте ее в среду слева\n",
        "# Важно! Поскольку в коде требуется картинка, если я ее не подгружу, бот сломается"
      ],
      "metadata": {
        "id": "V7mQny2Z0_5w"
      },
      "execution_count": null,
      "outputs": []
    },
    {
      "cell_type": "code",
      "source": [
        "# Обновите доступ через токен\n",
        "bot = telebot.TeleBot(your_bot)\n",
        "\n",
        "@bot.message_handler(commands=[\"start\"])\n",
        "def start(message):\n",
        "\n",
        "  # что произошло с командой старт: мы научим ее отправлять клавиатуру\n",
        "\n",
        "  markup=types.ReplyKeyboardMarkup(resize_keyboard=True) # опишем клавиатуру\n",
        "  item1=types.KeyboardButton(\"Помощь\") # кнопки\n",
        "  item2=types.KeyboardButton(\"Когда нужно начинать переживать?\")\n",
        "  item3=types.KeyboardButton(\"Идеи?\")\n",
        "  item4=types.KeyboardButton(\"Боты\")\n",
        "  item5=types.KeyboardButton(\"Игры\")\n",
        "  markup.row(item1) # расположение кнопок\n",
        "  markup.row(item3, item4, item5)\n",
        "  markup.row(item2)\n",
        "  bot.send_message(message.chat.id, 'Добрый день! Это пробный бот занятия. Давайте посмотрим, как это работает :)', reply_markup=markup)\n",
        "  # в конец команды старт приписали вывод клавиатуры, кусочек: , reply_markup=markup\n",
        "\n",
        "@bot.message_handler(content_types=[\"text\"])\n",
        "def handle_text(message):\n",
        "  if message.text.strip() == 'Помощь':\n",
        "    bot.send_message(message.chat.id, text1)\n",
        "    bot.send_message(message.chat.id, text2)\n",
        "    bot.send_message(message.chat.id, text3)\n",
        "    bot.send_message(message.chat.id, text4)\n",
        "    bot.send_message(message.chat.id, text5)\n",
        "    bot.send_message(message.chat.id, text6)\n",
        "\n",
        "  # выше старый фрагмент кода\n",
        "\n",
        "  elif message.text.strip() == 'Когда нужно начинать переживать?':\n",
        "    # научим бот отправлять гифку\n",
        "    img = open('when-should-i-start-to-worry-south-park.gif', 'rb')\n",
        "    bot.send_animation(message.chat.id, img)\n",
        "    # см. как отправить картинку, видео, аудио, стикер и многое другое: https://core.telegram.org/bots/api#animation\n",
        "    answer1 = 'Не нужно переживать! Вот статистика сдачи Python в 2021-2022 учебном году: \\nhttps://datastudio.google.com/reporting/62fc58aa-6cb0-4bb3-986b-5c6bd4bcf006 \\nМы точно справимся!'\n",
        "    answer2 = 'Есть и более актуальная статистика: Python-хакатон в системе оценивания историков осенью 2022 года: \\nhttps://lookerstudio.google.com/reporting/f729749e-4455-4bdd-9712-ca56118b1040'\n",
        "    bot.send_message(message.chat.id, answer1)\n",
        "    bot.send_message(message.chat.id, answer2)\n",
        "\n",
        "  elif message.text.strip() == 'Идеи?':\n",
        "    answer1 = 'Мой любимый тестик по истории тут: https://arzamas.academy/materials/835\\nОн очень вдохновляет! 😏'\n",
        "    answer2 = 'И еще один отличный пример - проект \"Карта истории\" - XX век: https://kartaistorii.ru/ \\nТам много интерактивных тестов!'\n",
        "    bot.send_message(message.chat.id, answer1)\n",
        "    bot.send_message(message.chat.id, answer2)\n",
        "\n",
        "  elif message.text.strip() == 'Боты':\n",
        "    answer = 'Вот так выглядит Python-реализация нашего бота: \\nhttps://bit.ly/botHSE_HomoDigitus'\n",
        "    bot.send_message(message.chat.id, answer)\n",
        "\n",
        "  elif message.text.strip() == 'Игры':\n",
        "    answer1 = 'Общие идеи по созданию своей игры - в тетрадке: \\nhttps://colab.research.google.com/drive/1bIfMrzV4-3yJO9MDLQu4jDIFIWH278ZE?usp=sharing\\nНо сегодня мы занимаемся ботами ^^.'\n",
        "    answer2 = 'Вот здесь я рассказываю об играх, которые программируют историки в Вышке: https://perm.hse.ru/news/695281687.html'\n",
        "    answer3 = 'А вот ссылка на файлы: https://bit.ly/gamesHSE \\nВы можете попробовать запустить игры дома, но для этого нужно сначала скачать и установить на компьютер RenPy: https://www.renpy.org/'\n",
        "    answer4 = 'Чтобы игра запустилась, скачайте, распакуйте папку с игрой, затем в RenPy зайдите в настройки и укажите путь до папки с игрой на вашем компьютере'\n",
        "    answer5 = 'А если не запустилось, но очень хочется, напишите мне в телеграм: @avsenina'\n",
        "    bot.send_message(message.chat.id, answer1)\n",
        "    bot.send_message(message.chat.id, answer2)\n",
        "    bot.send_message(message.chat.id, answer3)\n",
        "    bot.send_message(message.chat.id, answer4)\n",
        "    bot.send_message(message.chat.id, answer5)\n",
        "\n",
        "  else:\n",
        "    bot.send_message(message.chat.id, text7)\n",
        "\n",
        "# Запускаем бота\n",
        "bot.polling(none_stop=True, interval=0)"
      ],
      "metadata": {
        "id": "8tJhh-mectV9"
      },
      "execution_count": null,
      "outputs": []
    },
    {
      "cell_type": "markdown",
      "source": [
        "### Еще бонус: можно показывать красивые короткие ссылки:"
      ],
      "metadata": {
        "id": "gSOtFuxTSG2O"
      }
    },
    {
      "cell_type": "code",
      "source": [
        "bot = telebot.TeleBot(your_bot)\n",
        "\n",
        "@bot.message_handler(commands=[\"start\"])\n",
        "def start(message):\n",
        "  bot.send_message(message.chat.id, 'Как отправлять красивые ссылки?\\nВы можете найти документацию [здесь](https://core.telegram.org/bots/api#formatting-options)!', parse_mode=\"Markdown\")\n",
        "\n",
        "bot.polling(none_stop=True, interval=0)\n",
        "\n",
        "# Бот пришлет: ...найти документацию здесь - и слово \"здесь\" будет кликабельным! Никаких километровых ссылок\n",
        "# В основе - разметка Markdown\n",
        "# Описание работы в документации телеграма: https://core.telegram.org/bots/api#formatting-options"
      ],
      "metadata": {
        "id": "wzL4Pr5cSOh0"
      },
      "execution_count": null,
      "outputs": []
    },
    {
      "cell_type": "markdown",
      "source": [
        "# 4. Бот-рандомайзер\n",
        "\n",
        "randint — сгенерировать целое число в заданном диапазоне\n",
        "\n",
        "choice — выбрать случайный элемент из заданного набора"
      ],
      "metadata": {
        "id": "IvLWFagmTMe6"
      }
    },
    {
      "cell_type": "markdown",
      "source": [
        "### Случайное предложение / цитата"
      ],
      "metadata": {
        "id": "EvTMr3nTWFvE"
      }
    },
    {
      "cell_type": "code",
      "source": [
        "sentences = '''Марафон Homo Digitus будет веселым!\n",
        "Надеемся, что встречи марафона - полезные\n",
        "Поступайте в нашу [магистратуру](https://perm.hse.ru/ma/digitalhum/)!\n",
        "Будем рады встретиться на конференционной секции ❤️\n",
        "Благодарим за участие!'''\n",
        "\n",
        "sentences"
      ],
      "metadata": {
        "id": "lZaXs-o1TQfB"
      },
      "execution_count": null,
      "outputs": []
    },
    {
      "cell_type": "code",
      "source": [
        "sentences.split('\\n') # разрежем по переносу строки"
      ],
      "metadata": {
        "id": "cJnwVs9PUdf2"
      },
      "execution_count": null,
      "outputs": []
    },
    {
      "cell_type": "code",
      "source": [
        "import random # импоритируем библиотеку для работы со случайностями :)\n",
        "print(random.choice(sentences.split('\\n')))"
      ],
      "metadata": {
        "id": "JcWvwEYrU0x3"
      },
      "execution_count": null,
      "outputs": []
    },
    {
      "cell_type": "code",
      "source": [
        "# научим бот выдавать случайное предложение\n",
        "bot = telebot.TeleBot(your_bot)\n",
        "\n",
        "@bot.message_handler(commands=[\"start\"])\n",
        "def start(message):\n",
        "  bot.send_message(message.chat.id, 'Вас приветствует бот марафона! В ответ на ЛЮБОЕ ваше сообщение, он будет отправлять случайное предложение из следующих: \\n\\n' + sentences, parse_mode=\"Markdown\")\n",
        "\n",
        "@bot.message_handler(content_types=[\"text\"])\n",
        "def handle_text(message):\n",
        "  bot.send_message(message.chat.id, random.choice(sentences.split('\\n')), parse_mode=\"Markdown\")\n",
        "\n",
        "bot.polling(none_stop=True, interval=0)"
      ],
      "metadata": {
        "id": "CISednWoUpv6"
      },
      "execution_count": null,
      "outputs": []
    },
    {
      "cell_type": "markdown",
      "source": [
        "### Давайте сделаем его чуть умнее и научим показывать кнопку \"Напечатай предложение!\""
      ],
      "metadata": {
        "id": "KCdFcQH5WKcd"
      }
    },
    {
      "cell_type": "code",
      "source": [
        "bot = telebot.TeleBot(your_bot)\n",
        "\n",
        "@bot.message_handler(commands=[\"start\"])\n",
        "def start(message):\n",
        "  markup=types.ReplyKeyboardMarkup(resize_keyboard=True) # опишем клавиатуру\n",
        "  item1=types.KeyboardButton(\"Напечатай предложение!\") # кнопки\n",
        "  markup.row(item1) # расположение кнопок\n",
        "  bot.send_message(message.chat.id, 'Вас приветствует бот марафона! Бот будет отправлять случайное предложение из следующих: \\n\\n' + sentences, parse_mode=\"Markdown\", reply_markup=markup)\n",
        "\n",
        "@bot.message_handler(content_types=[\"text\"])\n",
        "def handle_text(message):\n",
        "  if message.text.strip() == \"Напечатай предложение!\":\n",
        "    bot.send_message(message.chat.id, random.choice(sentences.split('\\n')), parse_mode=\"Markdown\")\n",
        "\n",
        "bot.polling(none_stop=True, interval=0)"
      ],
      "metadata": {
        "id": "0TuFNgYbWTgd"
      },
      "execution_count": null,
      "outputs": []
    },
    {
      "cell_type": "markdown",
      "source": [
        "### Для давних знакомых: случайное определение DH\n",
        "\n",
        "C сайта [What Is Digital Humanities?](https://whatisdigitalhumanities.com/)"
      ],
      "metadata": {
        "id": "HJYsd_75X0OZ"
      }
    },
    {
      "cell_type": "code",
      "source": [
        "import pandas as pd\n",
        "dh = pd.read_csv('https://raw.githubusercontent.com/hepplerj/whatisdigitalhumanities/master/dayofquotes_full.csv')\n",
        "dh.head()"
      ],
      "metadata": {
        "id": "IF6bcjvcYG2z"
      },
      "execution_count": null,
      "outputs": []
    },
    {
      "cell_type": "code",
      "source": [
        "random.choice(dh['quote'])"
      ],
      "metadata": {
        "id": "w__kD9KSYyZ6"
      },
      "execution_count": null,
      "outputs": []
    },
    {
      "cell_type": "code",
      "source": [
        "# модифицируем прошлый код:\n",
        "\n",
        "bot = telebot.TeleBot(your_bot)\n",
        "\n",
        "@bot.message_handler(commands=[\"start\"])\n",
        "def start(message):\n",
        "  markup=types.ReplyKeyboardMarkup(resize_keyboard=True) # опишем клавиатуру\n",
        "  item1=types.KeyboardButton(\"Хочу определение DH!\") # кнопки\n",
        "  markup.row(item1) # расположение кнопок\n",
        "  bot.send_message(message.chat.id, 'Вас приветствует бот марафона! Бот будет отправлять случайное определение Digital Humanities с сайта https://whatisdigitalhumanities.com/', reply_markup=markup)\n",
        "\n",
        "@bot.message_handler(content_types=[\"text\"])\n",
        "def handle_text(message):\n",
        "  if message.text.strip() == \"Хочу определение DH!\":\n",
        "    bot.send_message(message.chat.id, random.choice(dh['quote']))\n",
        "\n",
        "bot.polling(none_stop=True, interval=0)"
      ],
      "metadata": {
        "id": "tlIEkJ0SYL75"
      },
      "execution_count": null,
      "outputs": []
    },
    {
      "cell_type": "markdown",
      "source": [
        "### Для моих студентов направления Дизайн...\n",
        "\n",
        "Для примера работы питонских функций, я программировала генератор утят"
      ],
      "metadata": {
        "id": "Yr3ZD7HfZtxD"
      }
    },
    {
      "cell_type": "code",
      "source": [
        "# утята отсюда: https://inventwithpython.com/bigbookpython/project22.html\n",
        ">\" )   =^^)    (``=   (\"=  >\")    (\"=\n",
        "(  >)  (  ^)  (v  )  (^ )  ( >)  (v )\n",
        " ^ ^    ^ ^    ^ ^    ^^    ^^    ^^\n",
        "# но я упростила..."
      ],
      "metadata": {
        "id": "RifaJELmZ6Ai"
      },
      "execution_count": null,
      "outputs": []
    },
    {
      "cell_type": "code",
      "source": [
        "import random\n",
        "\n",
        "a = [' >\" )', ' =^^)', ' (``=', ' (\"=', ' >\")', ' (\"=']\n",
        "b = ['(  >)', '(  ^)', '(v  )', '(^ )', '( >)', '(v )']\n",
        "c = [' ^ ^ ', '  ^^ ', '  ^^']\n",
        "\n",
        "def duck(): # генерируются 2 утенка в 1 строку\n",
        "  n = random.randint(0, 25)\n",
        "  k = random.randint(26, 50)\n",
        "  print(' ' * n, random.choice(a), ' ' * k, random.choice(a))\n",
        "  print(' ' * n, random.choice(b), ' ' * k, random.choice(b))\n",
        "  print(' ' * n, random.choice(c), ' ' * k, random.choice(c))\n",
        "\n",
        "def count_duck(): # выбирает от 2 до 4 строк\n",
        "  m = random.randint(2, 4)\n",
        "  for i in range(m):\n",
        "    duck()\n",
        "\n",
        "count_duck()\n",
        "\n",
        "# проблема в том, что эта функция красиво работает в колабе, но не сохраняет результат работы (=только показывает на экране)"
      ],
      "metadata": {
        "id": "FKeGSQsGa_YZ"
      },
      "execution_count": null,
      "outputs": []
    },
    {
      "cell_type": "code",
      "source": [
        "# придется немножко модифицировать функцию\n",
        "# почему: вместо команды print у нас bot.send_message - есть небольшие отличия\n",
        "# научим функцию сохранять утят в строку через return (и использовать позже полученный результат!)\n",
        "\n",
        "import random\n",
        "\n",
        "a = [' >\" )', ' =^^)', ' (``=', ' (\"=', ' >\")', ' (\"=']\n",
        "b = ['(  >)', '(  ^)', '(v  )', '(^ )', '( >)', '(v )']\n",
        "c = [' ^ ^ ', '  ^^ ', '  ^^']\n",
        "\n",
        "def duck(): # генерируются 3 утенка в 1 строку\n",
        "  n = random.randint(0, 25)\n",
        "  k = random.randint(26, 50)\n",
        "  one_duck = random.choice(a) + ' ' * k + random.choice(a) + ' ' * n + random.choice(a) +'\\n' +\\\n",
        "  random.choice(b) + ' ' * k + random.choice(b) + ' ' * n + random.choice(b) + '\\n' +\\\n",
        "  random.choice(c) + ' ' * k + random.choice(c) + ' ' * n + random.choice(c) + '\\n'\n",
        "  return one_duck\n",
        "\n",
        "print(duck())"
      ],
      "metadata": {
        "id": "RCGLBMm_Z93e"
      },
      "execution_count": null,
      "outputs": []
    },
    {
      "cell_type": "code",
      "source": [
        "# модифицируем прошлый код:\n",
        "\n",
        "bot = telebot.TeleBot(your_bot)\n",
        "\n",
        "@bot.message_handler(commands=[\"start\"])\n",
        "def start(message):\n",
        "  markup=types.ReplyKeyboardMarkup(resize_keyboard=True) # опишем клавиатуру\n",
        "  item1=types.KeyboardButton(\"Отправь 🦆\") # кнопки\n",
        "  markup.row(item1) # расположение кнопок\n",
        "  bot.send_message(message.chat.id, 'Вас приветствует бот марафона! Бот будет отправлять утят по вашему запросу', reply_markup=markup)\n",
        "\n",
        "@bot.message_handler(content_types=[\"text\"])\n",
        "def handle_text(message):\n",
        "  if message.text == \"Отправь 🦆\":\n",
        "    bot.send_message(message.chat.id, duck())\n",
        "\n",
        "bot.polling(none_stop=True, interval=0)"
      ],
      "metadata": {
        "id": "0FnNtWvRaRkM"
      },
      "execution_count": null,
      "outputs": []
    },
    {
      "cell_type": "markdown",
      "source": [
        "## 5. Сложный бот - разветвленный диалог"
      ],
      "metadata": {
        "id": "n7SerznzfSrg"
      }
    },
    {
      "cell_type": "markdown",
      "source": [
        "Обычно это происходит, когда ваш бот ждет несколько одинаковых ответов (хотя ситуации бывают разные)\n",
        "\n",
        "Например:\n",
        "- Хотите ли вы учиться у нас?\n",
        "- Да\n",
        "- Нужна ли ссылка с описанием магистратуры?\n",
        "- Да\n",
        "- Отправляем!\n",
        "\n",
        "- Нет\n",
        "- Тогда посмотрите на нашу программу постдоков\n",
        "\n",
        "Бот не поймет, на какой вопрос отвечает пользователь, отправляя \"Да\"\n",
        "\n"
      ],
      "metadata": {
        "id": "ov2GNMaef3KC"
      }
    },
    {
      "cell_type": "code",
      "source": [
        "bot = telebot.TeleBot(your_bot)\n",
        "\n",
        "@bot.message_handler(commands=[\"start\"])\n",
        "def start(message, res=False):\n",
        "  bot.send_message(message.chat.id, 'Бот расскажет о нескольких вариантах вхождения в нашу команду!\\nХотите ли вы учиться у нас в магистратуре?')\n",
        "\n",
        "@bot.message_handler(content_types=[\"text\"])\n",
        "def handle_text(message):\n",
        "  if message.text.strip() == 'Да':\n",
        "    bot.send_message(message.chat.id, 'Прислать вам ссылку на нашу программу?')\n",
        "    #бот ждет ответ пользователя и вызывает функцию\n",
        "    bot.register_next_step_handler(message, next_question) # добавили вызов функии, ждем...\n",
        "  else:\n",
        "    bot.send_message(message.chat.id, 'Тогда посмотрите на нашу программу постдоков: https://postdocru.hse.ru/projects2023\\nПрямо сейчас мы ищем специалиста по земской истории в проект \"Земства в социокультурной трансформации Российской империи во второй половине XIX - начале XX в.\"')\n",
        "    bot.send_message(message.chat.id, 'А еще к нам можно приехать на стажировку: https://internship.hse.ru. Welcome!')\n",
        "\n",
        "# дополнительные вопросы будет принимать функция\n",
        "def next_question(message):\n",
        "  if message.text.strip() == 'Да':\n",
        "    bot.send_message(message.chat.id, 'Отправляем! https://perm.hse.ru/ma/digitalhum')\n",
        "\n",
        "bot.polling(none_stop=True, interval=0)"
      ],
      "metadata": {
        "id": "J9_DxPiZfYiP"
      },
      "execution_count": null,
      "outputs": []
    },
    {
      "cell_type": "markdown",
      "source": [
        "### Бонус - работа студентов: игра про революцию 1917 года в коде\n",
        "\n",
        "Ссылка на [код](https://colab.research.google.com/drive/1SwnMdyKH-OG477J0EJiK3urJ8t5P-4tp?usp=sharing)"
      ],
      "metadata": {
        "id": "lM8d_C5XibQl"
      }
    },
    {
      "cell_type": "markdown",
      "source": [
        "## Давайте напишем простого NLP-бота..."
      ],
      "metadata": {
        "id": "p00iDvrFQ41R"
      }
    },
    {
      "cell_type": "code",
      "source": [
        "# все установки библиотек\n",
        "!pip install pymorphy3\n",
        "!pip install wordcloud\n",
        "!pip install torch\n",
        "!pip install transformers\n",
        "\n",
        "# для очистки (препроцессинга) текста...\n",
        "import nltk\n",
        "from nltk.tokenize import sent_tokenize, word_tokenize\n",
        "nltk.download('punkt_tab')\n",
        "from nltk.corpus import stopwords\n",
        "nltk.download('stopwords')\n",
        "ru_stop_words = stopwords.words('russian')\n",
        "\n",
        "# pymorphy\n",
        "!pip install pymorphy3 #\n",
        "from pymorphy3 import MorphAnalyzer\n",
        "morph = MorphAnalyzer()\n",
        "\n",
        "# сентимент-анализ текстов на русском\n",
        "import torch\n",
        "from transformers import AutoModelForSequenceClassification\n",
        "from transformers import BertTokenizerFast\n",
        "tokenizer_sentiment = BertTokenizerFast.from_pretrained('blanchefort/rubert-base-cased-sentiment')\n",
        "model_sentiment = AutoModelForSequenceClassification.from_pretrained('blanchefort/rubert-base-cased-sentiment', return_dict=True)\n",
        "\n",
        "#таблички\n",
        "import pandas as pd\n",
        "\n",
        "# для рисования облака слов\n",
        "from wordcloud import WordCloud\n",
        "import matplotlib.pyplot as plt\n",
        "\n",
        "# для подсчета любых частот (часто встречающиеся слова, n-граммы и т.д.)\n",
        "from collections import Counter\n",
        "\n",
        "import os"
      ],
      "metadata": {
        "id": "Gmf3b-ggUMha"
      },
      "execution_count": null,
      "outputs": []
    },
    {
      "cell_type": "markdown",
      "source": [
        "### Вариант, где мы сохраняем имя пользователя + имя файла\n",
        "\n",
        "Одновременно работаем с файлами от разных пользователей\n",
        "\n",
        "Это UPD по итогам пары в прошлом году:)"
      ],
      "metadata": {
        "id": "rq0KpNVGmwHo"
      }
    },
    {
      "cell_type": "code",
      "source": [
        "def get_ru_lemm(text):\n",
        "  text = text.lower()\n",
        "  text_tokens = word_tokenize(text)\n",
        "  clean_tokens = []\n",
        "  for i in text_tokens:\n",
        "    if i[0].isalpha() and i not in ru_stop_words:\n",
        "      clean_tokens.append(i)\n",
        "  ru_lemmatized = []\n",
        "  for word in clean_tokens:\n",
        "      ru_lemmatized.append(morph.parse(word)[0].normal_form)\n",
        "  return ru_lemmatized\n",
        "\n",
        "def lemm_to_file(lemm):\n",
        "  with open('леммы.txt', 'w', encoding='utf-8') as l:\n",
        "    for i in lemm:\n",
        "      print(i, end=', ', file = l)\n",
        "\n",
        "def n_grams(lemm):\n",
        "  freq_bigramms = Counter(nltk.bigrams(lemm)).most_common(10)\n",
        "  res_bigramms = []\n",
        "  for i, j in freq_bigramms:\n",
        "    res_bigramms.append(''.join((' '.join(i)) + ': ' + str(j)))\n",
        "  freq_trigramms = Counter(nltk.trigrams(lemm)).most_common(5)\n",
        "  res_trigramms = []\n",
        "  for i, j in freq_trigramms:\n",
        "    res_trigramms.append(''.join((' '.join(i)) + ': ' + str(j)))\n",
        "  return res_bigramms, res_trigramms\n",
        "\n",
        "def word_cloud(lemm, username):\n",
        "  wordcloud = WordCloud(width = 1000,\n",
        "                        height = 750,\n",
        "                        background_color='white',\n",
        "                        colormap='tab10').generate(', '.join(lemm))\n",
        "  plt.figure(figsize=(20, 15)) # Устанавливаем размер картинки\n",
        "  plt.imshow(wordcloud) # Что изображаем\n",
        "  plt.axis(\"off\") # Без подписей на осях\n",
        "  plt.savefig(username + 'wordcloud')\n",
        "\n",
        "def sentiment(lemm):\n",
        "  positive = []\n",
        "  negative = []\n",
        "  for i in lemm:\n",
        "    inputs = tokenizer_sentiment(i, max_length=512, padding=True, truncation=True, return_tensors='pt')\n",
        "    outputs = model_sentiment(**inputs)\n",
        "    predicted = torch.nn.functional.softmax(outputs.logits, dim=1)\n",
        "    predicted = torch.topk(predicted, k=1)\n",
        "    if predicted.indices.detach().numpy()[0] == 1:\n",
        "      positive.append((i, float(predicted.values.detach().numpy()[0][0])))\n",
        "    elif predicted.indices.detach().numpy()[0] == 2:\n",
        "      negative.append((i, float(predicted.values.detach().numpy()[0][0])))\n",
        "  positive.sort(key=lambda x: x[1], reverse=True)\n",
        "  negative.sort(key=lambda x: x[1], reverse=True)\n",
        "  most_positive_words = []\n",
        "  for w, v in positive:\n",
        "    if w not in most_positive_words:\n",
        "      most_positive_words.append(w)\n",
        "    if len(most_positive_words) < 5:\n",
        "      continue\n",
        "    else:\n",
        "      break\n",
        "  most_negative_words = []\n",
        "  for w, v in negative:\n",
        "    if w not in most_negative_words:\n",
        "      most_negative_words.append(w)\n",
        "    if len(most_negative_words) < 5:\n",
        "      continue\n",
        "    else:\n",
        "      break\n",
        "  return most_positive_words, most_negative_words\n",
        "\n",
        "def main(text, username):\n",
        "  lemm = get_ru_lemm(text)\n",
        "  lemm_to_file(lemm)\n",
        "  word_cloud(lemm, username)\n",
        "  return lemm, n_grams(lemm), sentiment(lemm)"
      ],
      "metadata": {
        "id": "OOXWcOQbuP4S"
      },
      "execution_count": null,
      "outputs": []
    },
    {
      "cell_type": "code",
      "source": [
        "bot = telebot.TeleBot(your_bot)\n",
        "\n",
        "@bot.message_handler(commands=[\"start\"])\n",
        "def start(message, res=False):\n",
        "  markup=types.ReplyKeyboardMarkup(resize_keyboard=True) # опишем клавиатуру\n",
        "  item1=types.KeyboardButton(\"Лемматизация\") # кнопки\n",
        "  item2=types.KeyboardButton(\"N-граммы\")\n",
        "  item3=types.KeyboardButton(\"Облако слов\")\n",
        "  item4=types.KeyboardButton(\"Тональность\")\n",
        "  markup.row(item1, item2) # расположение кнопок\n",
        "  markup.row(item3, item4)\n",
        "\n",
        "  bot.send_message(message.chat.id, 'Привет! Этот бот немножко умеет с работать текстом')\n",
        "  bot.send_message(message.chat.id, 'Пожалуйста, пришлите ваш файл в txt, затем воспользуйтесь встроенный клавиатурой - и бот покажет, что он умеет', reply_markup=markup)\n",
        "\n",
        "@bot.message_handler(content_types=[\"text\", \"document\"])\n",
        "def handle_text(message):\n",
        "  try:\n",
        "\n",
        "    chat_id = message.chat.id\n",
        "\n",
        "    file_info = bot.get_file(message.document.file_id)\n",
        "    downloaded_file = bot.download_file(file_info.file_path)\n",
        "\n",
        "    filename = message.document.file_name\n",
        "    username = message.from_user.username\n",
        "\n",
        "    with open(username + filename, 'wb') as new_file:\n",
        "      new_file.write(downloaded_file)\n",
        "\n",
        "  except:\n",
        "    username = message.from_user.username\n",
        "    for i in os.listdir():\n",
        "      if username in i and '.txt' in i:\n",
        "        with open(i, 'r', encoding='utf-8') as input_file:\n",
        "          text = input_file.read()\n",
        "    result = main(text, username)\n",
        "\n",
        "    if message.text == 'Лемматизация':\n",
        "      bot.send_message(message.chat.id, 'Бот напишет первые 20 лемм, а все леммы отправит файлом:')\n",
        "      bot.send_message(message.chat.id, ', '.join(result[0][:20]))\n",
        "      with open(username + '_леммы.txt', 'w', encoding='utf-8') as l:\n",
        "        for i in result[0]:\n",
        "            print(i, end=', ', file = l)\n",
        "      doc = open(username + '_леммы.txt', 'rb')\n",
        "      bot.send_document(message.chat.id, doc)\n",
        "      doc.close()\n",
        "\n",
        "    elif message.text == 'N-граммы':\n",
        "      bot.send_message(message.chat.id, 'Отправляю самые частотные биграммы:')\n",
        "      bot.send_message(message.chat.id, '\\n'.join(result[1][0]))\n",
        "      bot.send_message(message.chat.id, 'А также триграммы:')\n",
        "      bot.send_message(message.chat.id, '\\n'.join(result[1][1]))\n",
        "\n",
        "    elif message.text == 'Облако слов':\n",
        "      bot.send_message(message.chat.id, 'Буквально минуту, уже рисую...')\n",
        "      bot.send_photo(message.chat.id, photo=open(username + 'wordcloud.png', 'rb'))\n",
        "\n",
        "    elif message.text == 'Тональность':\n",
        "      bot.send_message(message.chat.id, 'Наиболее позитивные слова: \\n' + ', '.join(result[2][0]))\n",
        "      bot.send_message(message.chat.id, 'Наиболее негативные слова: \\n' + ', '.join(result[2][1]))\n",
        "\n",
        "bot.polling(none_stop=True, interval=0)"
      ],
      "metadata": {
        "id": "c2ZxcnSSlJQV"
      },
      "execution_count": null,
      "outputs": []
    },
    {
      "cell_type": "markdown",
      "source": [
        "Основная проблема: одна функция main на всякий случай делает всё 🤨\n",
        "\n",
        "Из-за этого код выполняется медленно"
      ],
      "metadata": {
        "id": "9ssuA7DGCb-a"
      }
    },
    {
      "cell_type": "markdown",
      "source": [
        "Давайте впервые переделаем все в ООП стиле!"
      ],
      "metadata": {
        "id": "4xKfTzWZCzfZ"
      }
    },
    {
      "cell_type": "code",
      "source": [
        "class NLP:\n",
        "\n",
        "  def __init__(self, text):\n",
        "    self.text = text\n",
        "    text = text.lower()\n",
        "    text_tokens = word_tokenize(text)\n",
        "    clean_tokens = []\n",
        "    for i in text_tokens:\n",
        "      if i[0].isalpha() and i not in ru_stop_words:\n",
        "        clean_tokens.append(i)\n",
        "    ru_lemmatized = []\n",
        "    for word in clean_tokens:\n",
        "        ru_lemmatized.append(morph.parse(word)[0].normal_form)\n",
        "    self.lemm = ru_lemmatized\n",
        "\n",
        "  def n_grams(self):\n",
        "    freq_bigramms = Counter(nltk.bigrams(self.lemm)).most_common(10)\n",
        "    res_bigramms = []\n",
        "    for i, j in freq_bigramms:\n",
        "      res_bigramms.append(''.join((' '.join(i)) + ': ' + str(j)))\n",
        "    freq_trigramms = Counter(nltk.trigrams(self.lemm)).most_common(5)\n",
        "    res_trigramms = []\n",
        "    for i, j in freq_trigramms:\n",
        "      res_trigramms.append(''.join((' '.join(i)) + ': ' + str(j)))\n",
        "    return res_bigramms, res_trigramms\n",
        "\n",
        "  def word_cloud(self, username):\n",
        "    wordcloud = WordCloud(width = 1000,\n",
        "                          height = 750,\n",
        "                          background_color='white',\n",
        "                          colormap='tab10').generate(', '.join(self.lemm))\n",
        "    plt.figure(figsize=(20, 15)) # Устанавливаем размер картинки\n",
        "    plt.imshow(wordcloud) # Что изображаем\n",
        "    plt.axis(\"off\") # Без подписей на осях\n",
        "    plt.savefig(username + 'wordcloud')\n",
        "\n",
        "  def sentiment(self):\n",
        "    positive = []\n",
        "    negative = []\n",
        "    for i in self.lemm:\n",
        "      inputs = tokenizer_sentiment(i, max_length=512, padding=True, truncation=True, return_tensors='pt')\n",
        "      outputs = model_sentiment(**inputs)\n",
        "      predicted = torch.nn.functional.softmax(outputs.logits, dim=1)\n",
        "      predicted = torch.topk(predicted, k=1)\n",
        "      if predicted.indices.detach().numpy()[0] == 1:\n",
        "        positive.append((i, float(predicted.values.detach().numpy()[0][0])))\n",
        "      elif predicted.indices.detach().numpy()[0] == 2:\n",
        "        negative.append((i, float(predicted.values.detach().numpy()[0][0])))\n",
        "    positive.sort(key=lambda x: x[1], reverse=True)\n",
        "    negative.sort(key=lambda x: x[1], reverse=True)\n",
        "    most_positive_words = []\n",
        "    for w, v in positive:\n",
        "      if w not in most_positive_words:\n",
        "        most_positive_words.append(w)\n",
        "      if len(most_positive_words) < 5:\n",
        "        continue\n",
        "      else:\n",
        "        break\n",
        "    most_negative_words = []\n",
        "    for w, v in negative:\n",
        "      if w not in most_negative_words:\n",
        "        most_negative_words.append(w)\n",
        "      if len(most_negative_words) < 5:\n",
        "        continue\n",
        "      else:\n",
        "        break\n",
        "    return most_positive_words, most_negative_words"
      ],
      "metadata": {
        "id": "f-FjVu4SC3Ii"
      },
      "execution_count": null,
      "outputs": []
    },
    {
      "cell_type": "code",
      "source": [
        "bot = telebot.TeleBot(your_bot)\n",
        "\n",
        "d = {}\n",
        "\n",
        "@bot.message_handler(commands=[\"start\"])\n",
        "def start(message, res=False):\n",
        "  markup=types.ReplyKeyboardMarkup(resize_keyboard=True) # опишем клавиатуру\n",
        "  item1=types.KeyboardButton(\"Лемматизация\") # кнопки\n",
        "  item2=types.KeyboardButton(\"N-граммы\")\n",
        "  item3=types.KeyboardButton(\"Облако слов\")\n",
        "  item4=types.KeyboardButton(\"Тональность\")\n",
        "  markup.row(item1, item2) # расположение кнопок\n",
        "  markup.row(item3, item4)\n",
        "\n",
        "  bot.send_message(message.chat.id, 'Привет! Этот бот немножко умеет с работать текстом')\n",
        "  bot.send_message(message.chat.id, 'Пожалуйста, пришлите ваш файл в txt, затем воспользуйтесь встроенный клавиатурой - и бот покажет, что он умеет', reply_markup=markup)\n",
        "\n",
        "@bot.message_handler(content_types=[\"text\", \"document\"])\n",
        "def handle_text(message):\n",
        "  try:\n",
        "\n",
        "    chat_id = message.chat.id\n",
        "\n",
        "    file_info = bot.get_file(message.document.file_id)\n",
        "    downloaded_file = bot.download_file(file_info.file_path)\n",
        "\n",
        "    filename = message.document.file_name\n",
        "    username = message.from_user.username\n",
        "    with open(username + '_' + filename, 'wb') as new_file:\n",
        "      new_file.write(downloaded_file)\n",
        "\n",
        "    for f in os.listdir():\n",
        "      if username in f and filename not in f:\n",
        "        os.remove(f)\n",
        "\n",
        "  except:\n",
        "    username = message.from_user.username\n",
        "\n",
        "    for i in os.listdir():\n",
        "      if username in i and '.txt' in i:\n",
        "        with open(i, 'r', encoding='utf-8') as input_file:\n",
        "          text = input_file.read()\n",
        "        d[username] = NLP(text)\n",
        "\n",
        "    if message.text == 'Лемматизация':\n",
        "      bot.send_message(message.chat.id, 'Бот напишет первые 20 лемм, а все леммы отправит файлом:')\n",
        "      result = d[username].lemm\n",
        "      bot.send_message(message.chat.id, ', '.join(result[:20]))\n",
        "      with open(username + '_леммы.txt', 'w', encoding='utf-8') as l:\n",
        "        for i in result:\n",
        "            print(i, end=', ', file = l)\n",
        "      doc = open(username + '_леммы.txt', 'rb')\n",
        "      bot.send_document(message.chat.id, doc)\n",
        "      doc.close()\n",
        "\n",
        "    elif message.text == 'N-граммы':\n",
        "      bot.send_message(message.chat.id, 'Отправляю самые частотные биграммы:')\n",
        "      bot.send_message(message.chat.id, '\\n'.join(d[username].n_grams()[0]))\n",
        "      bot.send_message(message.chat.id, 'А также триграммы:')\n",
        "      bot.send_message(message.chat.id, '\\n'.join(d[username].n_grams()[1]))\n",
        "\n",
        "    elif message.text == 'Облако слов':\n",
        "      bot.send_message(message.chat.id, 'Буквально минуту, уже рисую...')\n",
        "      d[username].word_cloud(username)\n",
        "      bot.send_photo(message.chat.id, photo=open(username + 'wordcloud.png', 'rb'))\n",
        "\n",
        "    elif message.text == 'Тональность':\n",
        "      result = d[username].sentiment()\n",
        "      bot.send_message(message.chat.id, 'Наиболее позитивные слова: \\n' + ', '.join(result[0]))\n",
        "      bot.send_message(message.chat.id, 'Наиболее негативные слова: \\n' + ', '.join(result[1]))\n",
        "\n",
        "bot.polling(none_stop=True, interval=0)"
      ],
      "metadata": {
        "id": "i9IaSj5QE-aF"
      },
      "execution_count": null,
      "outputs": []
    },
    {
      "cell_type": "markdown",
      "source": [
        "# Задание:\n",
        "\n",
        "Программируем бота! Бот может быть посвящен любой теме.\n",
        "\n",
        "Технические требования:\n",
        "\n",
        "* прописано приветствие\n",
        "* есть несколько веточек диалога с использованием if - elif - else\n",
        "* бот корректно отправляет сообщения в каждой веточке\n",
        "\n",
        "Дополнительно:\n",
        "\n",
        "* бот можно сделать более интерактивным, использовав выбор случайного ответа из списка заданных\n",
        "\n",
        "* можно (но не обязательно) добавить кнопки клавиатуры - если кнопок нет, убедитесь, что бот объясняет пользователю, каких ответов ждет\n",
        "\n",
        "* попробуйте научить бота отправлять ваши файлы: картинки / видео и мн.другое\n",
        "\n",
        "* было бы полезно предобработать ответы пользователя: привести буквы к нижнему регистру, удалить пунктуацию в конце строки и т.д.\n",
        "\n",
        "* сложное: бот с многоуровненым диалогом - функция-обработчик сообщений"
      ],
      "metadata": {
        "id": "o6V4AQvqQ_Fp"
      }
    },
    {
      "cell_type": "code",
      "source": [
        "# Простой шаблон для ваших идей\n",
        "\n",
        "bot = telebot.TeleBot(your_bot) # обновим токен\n",
        "\n",
        "@bot.message_handler(commands=[\"start\"])\n",
        "def start(message):\n",
        "  bot.send_message(message.chat.id, \"Приветствие\") # можно поменять текст\n",
        "\n",
        "@bot.message_handler(content_types=[\"text\"])\n",
        "def handle_text(message):\n",
        "  # bot.send_message(message.chat.id, \"Сообщение, которое бот присылает всегда, вне зависимости от ответа пользователя\")\n",
        "  # если не нужно, поставьте перед ним #, и питон будет его пропускать\n",
        "\n",
        "  if message.text.strip() == 'Сообщение пользователя':\n",
        "    bot.send_message(message.chat.id, 'Ответ бота')\n",
        "\n",
        "  elif message.text.strip() == 'Другое сообщение пользователя':\n",
        "    bot.send_message(message.chat.id, 'Ответ бота')\n",
        "\n",
        "  else:\n",
        "    bot.send_message(message.chat.id, 'Ответ бота, если ничего из if - elif не подошло')\n",
        "\n",
        "bot.polling(none_stop=True, interval=0) # запускаем бота"
      ],
      "metadata": {
        "id": "iZnMoukbtW86"
      },
      "execution_count": null,
      "outputs": []
    }
  ]
}