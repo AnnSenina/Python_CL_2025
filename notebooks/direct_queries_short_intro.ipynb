{
 "cells": [
  {
   "cell_type": "markdown",
   "id": "cce778e6",
   "metadata": {},
   "source": [
    "## Initial query"
   ]
  },
  {
   "cell_type": "code",
   "execution_count": 13,
   "id": "70cd6e35-c2b4-4484-9a80-2c764a5f0287",
   "metadata": {},
   "outputs": [
    {
     "name": "stdout",
     "output_type": "stream",
     "text": [
      "Collecting fake_useragent\n",
      "  Downloading fake_useragent-1.5.1-py3-none-any.whl.metadata (15 kB)\n",
      "Downloading fake_useragent-1.5.1-py3-none-any.whl (17 kB)\n",
      "Installing collected packages: fake_useragent\n",
      "Successfully installed fake_useragent-1.5.1\n"
     ]
    }
   ],
   "source": [
    "! pip install fake_useragent"
   ]
  },
  {
   "cell_type": "code",
   "execution_count": 15,
   "id": "3260baa6",
   "metadata": {},
   "outputs": [],
   "source": [
    "import requests\n",
    "import urllib\n",
    "import json\n",
    "from bs4 import BeautifulSoup\n",
    "from fake_useragent import UserAgent"
   ]
  },
  {
   "cell_type": "code",
   "execution_count": 3,
   "id": "6568a46e",
   "metadata": {},
   "outputs": [
    {
     "data": {
      "text/plain": [
       "<Response [403]>"
      ]
     },
     "execution_count": 3,
     "metadata": {},
     "output_type": "execute_result"
    }
   ],
   "source": [
    "requests.get('https://www.imdb.com/')"
   ]
  },
  {
   "cell_type": "code",
   "execution_count": 4,
   "id": "52d6413b",
   "metadata": {},
   "outputs": [],
   "source": [
    "url = 'https://www.imdb.com/search/title/?title_type=tv_movie&release_date=2019-01-01,2019-12-31&countries=FR&languages=fr'"
   ]
  },
  {
   "cell_type": "code",
   "execution_count": 21,
   "id": "83041885",
   "metadata": {},
   "outputs": [
    {
     "data": {
      "text/plain": [
       "<Response [200]>"
      ]
     },
     "execution_count": 21,
     "metadata": {},
     "output_type": "execute_result"
    }
   ],
   "source": [
    "response = requests.get(url, headers={'User-Agent': UserAgent().chrome})\n",
    "response"
   ]
  },
  {
   "cell_type": "code",
   "execution_count": 23,
   "id": "2a32dd08",
   "metadata": {},
   "outputs": [
    {
     "name": "stdout",
     "output_type": "stream",
     "text": [
      "  % Total    % Received % Xferd  Average Speed   Time    Time     Time  Current\n",
      "                                 Dload  Upload   Total   Spent    Left  Speed\n",
      "100 1058k    0 1058k    0     0   402k      0 --:--:--  0:00:02 --:--:--  402k\n"
     ]
    }
   ],
   "source": [
    "!curl 'https://www.imdb.com/search/title/?title_type=tv_movie&release_date=2019-01-01,2019-12-31&countries=FR&languages=fr' \\\n",
    "  -H 'accept: text/html,application/xhtml+xml,application/xml;q=0.9,image/avif,image/webp,image/apng,*/*;q=0.8,application/signed-exchange;v=b3;q=0.7' \\\n",
    "  -H 'accept-language: ru-RU,ru;q=0.9,en-US;q=0.8,en;q=0.7' \\\n",
    "  -H 'cache-control: max-age=0' \\\n",
    "  -H 'cookie: session-id-time=2082787201l; session-id=132-9294917-6516805; ad-oo=0; ubid-main=135-3242677-3130035; session-token=VmPK+bzDy3GGziK+APWJGcJiBuv2aS96lh5aqXK9sO85Saa7HrpZcqpijMbOHbUQg3A7g1kwVh3XPc86fh8+beOix1xhjZw7irPLhuELuj/30syZDE6exOcpT96/v8P4lBVcLSGbxqocd36vtZRNAXZJOWd+kY8CCFfYcohtTmMVXYPZfTgZqxUkV6JYJ3osInyANCYW4iaKCs5bBpbDayIXHK4ttgrdGoGCkmGLUecNVji9PFdxE+Lla7mXbhhVvkUdTcaVdZeIK/IwAMjFLVgZd6FHHR2WemQ4vN6BnKPEyqoFhcAwGXDyXGwRFpJparr7cCl/QndosD9C/MygxswAP0UQqgzI; ci=eyJhY3QiOiJDUDlROWtBUDlROWtBRjRBQkNFTmZyLWdBQUFBQUFBQUFCYWdBQVFBQUFBZ0FBQUEiLCJnY3QiOiJDUDlROWtBUDlROWtBRjRBQkNFTkFiRWdBQUFBQUFBQUFCYWdBQVFBQUFBZ0FBRkFvQU1BQVFmUUNRQVlBQWctZ09nQXdBQkI5QWxBQmdBQ0Q2QlNBREFBRUgwQXdBR0FBSVBvQ2dBTUFBUWZRR0FBWUFBZy1nUUFBd0FCQjlBUUFQQUJBQUNRQUZRQU5ZQXdnREVBR1lBT1lBZ0FCU2dEVkFKYUFWa0Fyd0J3Z0ZoZy5ZQUFBQUFBQUFBQSIsInB1cnBvc2VzIjpbXSwidmVuZG9ycyI6W119; csm-hit=tb:ZYSTGNMGYRNNWH5C47B7+sa-M138MZB99Z6QQ4RZ1ZFB-TQG8CPQM0VFWRSXPW0YX|1713482193054&t:1713482193054&adb:adblk_yes' \\\n",
    "  -H 'referer: https://www.imdb.com/?ref_=nv_home' \\\n",
    "  -H 'sec-ch-ua: \"Google Chrome\";v=\"123\", \"Not:A-Brand\";v=\"8\", \"Chromium\";v=\"123\"' \\\n",
    "  -H 'sec-ch-ua-mobile: ?0' \\\n",
    "  -H 'sec-ch-ua-platform: \"macOS\"' \\\n",
    "  -H 'sec-fetch-dest: document' \\\n",
    "  -H 'sec-fetch-mode: navigate' \\\n",
    "  -H 'sec-fetch-site: same-origin' \\\n",
    "  -H 'sec-fetch-user: ?1' \\\n",
    "  -H 'upgrade-insecure-requests: 1' \\\n",
    "  -H 'user-agent: Mozilla/5.0 (Macintosh; Intel Mac OS X 10_15_7) AppleWebKit/537.36 (KHTML, like Gecko) Chrome/123.0.0.0 Safari/537.36' > first50.html"
   ]
  },
  {
   "cell_type": "code",
   "execution_count": 29,
   "id": "40f4da05",
   "metadata": {},
   "outputs": [],
   "source": [
    "with open('first50.html') as f:\n",
    "    data = f.read()"
   ]
  },
  {
   "cell_type": "code",
   "execution_count": 31,
   "id": "50a945f6",
   "metadata": {},
   "outputs": [],
   "source": [
    "tree = BeautifulSoup(data)"
   ]
  },
  {
   "cell_type": "code",
   "execution_count": 33,
   "id": "dfd2deed",
   "metadata": {},
   "outputs": [
    {
     "data": {
      "text/plain": [
       "[<h3 class=\"ipc-title__text\">1. Le pont des oubliés</h3>,\n",
       " <h3 class=\"ipc-title__text\">2. La Promesse de l'Eau</h3>,\n",
       " <h3 class=\"ipc-title__text\">3. Si tu vois ma mère</h3>,\n",
       " <h3 class=\"ipc-title__text\">4. Un homme parfait</h3>,\n",
       " <h3 class=\"ipc-title__text\">5. Les secrets du château</h3>]"
      ]
     },
     "execution_count": 33,
     "metadata": {},
     "output_type": "execute_result"
    }
   ],
   "source": [
    "tree.find_all('h3', {'class': \"ipc-title__text\"})[:5]"
   ]
  },
  {
   "cell_type": "code",
   "execution_count": 35,
   "id": "61a84219",
   "metadata": {},
   "outputs": [
    {
     "data": {
      "text/plain": [
       "['1. Le pont des oubliés',\n",
       " \"2. La Promesse de l'Eau\",\n",
       " '3. Si tu vois ma mère',\n",
       " '4. Un homme parfait',\n",
       " '5. Les secrets du château']"
      ]
     },
     "execution_count": 35,
     "metadata": {},
     "output_type": "execute_result"
    }
   ],
   "source": [
    "titles50 = [tag.text for tag in tree.find_all('h3', {'class': \"ipc-title__text\"})]\n",
    "titles50[:5]"
   ]
  },
  {
   "cell_type": "code",
   "execution_count": 37,
   "id": "08f5bc1c",
   "metadata": {},
   "outputs": [],
   "source": [
    "a = \"1. La Promesse de l'Eau\""
   ]
  },
  {
   "cell_type": "code",
   "execution_count": 39,
   "id": "ac26cede",
   "metadata": {},
   "outputs": [
    {
     "data": {
      "text/plain": [
       "\"La Promesse de l'Eau\""
      ]
     },
     "execution_count": 39,
     "metadata": {},
     "output_type": "execute_result"
    }
   ],
   "source": [
    "' '.join(a.split()[1:])"
   ]
  },
  {
   "cell_type": "code",
   "execution_count": 41,
   "id": "4ebb0be8",
   "metadata": {},
   "outputs": [
    {
     "data": {
      "text/plain": [
       "\"La Promesse de l'Eau\""
      ]
     },
     "execution_count": 41,
     "metadata": {},
     "output_type": "execute_result"
    }
   ],
   "source": [
    "' '.join(a.split()[1:])"
   ]
  },
  {
   "cell_type": "code",
   "execution_count": 44,
   "id": "65119b13",
   "metadata": {},
   "outputs": [],
   "source": [
    "titles50 = [' '.join(title.split()[1:]) for title in titles50]"
   ]
  },
  {
   "cell_type": "code",
   "execution_count": 46,
   "id": "ae40624f",
   "metadata": {},
   "outputs": [
    {
     "data": {
      "text/plain": [
       "['Le pont des oubliés',\n",
       " \"La Promesse de l'Eau\",\n",
       " 'Si tu vois ma mère',\n",
       " 'Un homme parfait',\n",
       " 'Les secrets du château']"
      ]
     },
     "execution_count": 46,
     "metadata": {},
     "output_type": "execute_result"
    }
   ],
   "source": [
    "titles50[:5]"
   ]
  },
  {
   "cell_type": "code",
   "execution_count": 48,
   "id": "6c3e1a7d",
   "metadata": {},
   "outputs": [
    {
     "data": {
      "text/plain": [
       "[<a class=\"ipc-title-link-wrapper\" href=\"/title/tt10906350/?ref_=sr_t_1\" tabindex=\"0\"><h3 class=\"ipc-title__text\">1. Le pont des oubliés</h3></a>,\n",
       " <a class=\"ipc-title-link-wrapper\" href=\"/title/tt7791184/?ref_=sr_t_2\" tabindex=\"0\"><h3 class=\"ipc-title__text\">2. La Promesse de l'Eau</h3></a>,\n",
       " <a class=\"ipc-title-link-wrapper\" href=\"/title/tt10176792/?ref_=sr_t_3\" tabindex=\"0\"><h3 class=\"ipc-title__text\">3. Si tu vois ma mère</h3></a>,\n",
       " <a class=\"ipc-title-link-wrapper\" href=\"/title/tt10064444/?ref_=sr_t_4\" tabindex=\"0\"><h3 class=\"ipc-title__text\">4. Un homme parfait</h3></a>,\n",
       " <a class=\"ipc-title-link-wrapper\" href=\"/title/tt13672466/?ref_=sr_t_5\" tabindex=\"0\"><h3 class=\"ipc-title__text\">5. Les secrets du château</h3></a>]"
      ]
     },
     "execution_count": 48,
     "metadata": {},
     "output_type": "execute_result"
    }
   ],
   "source": [
    "tree.find_all('a', {'class': 'ipc-title-link-wrapper'})[:5]"
   ]
  },
  {
   "cell_type": "code",
   "execution_count": 50,
   "id": "3fa59804",
   "metadata": {},
   "outputs": [
    {
     "data": {
      "text/plain": [
       "'https://www.imdb.com/search/title/?title_type=tv_movie&release_date=2019-01-01,2019-12-31&countries=FR&languages=fr'"
      ]
     },
     "execution_count": 50,
     "metadata": {},
     "output_type": "execute_result"
    }
   ],
   "source": [
    "url"
   ]
  },
  {
   "cell_type": "code",
   "execution_count": 52,
   "id": "9d3e94b7",
   "metadata": {},
   "outputs": [
    {
     "data": {
      "text/plain": [
       "'/title/tt10906350/?ref_=sr_t_1'"
      ]
     },
     "execution_count": 52,
     "metadata": {},
     "output_type": "execute_result"
    }
   ],
   "source": [
    "tree.find_all('a', {'class': 'ipc-title-link-wrapper'})[0].get('href')"
   ]
  },
  {
   "cell_type": "code",
   "execution_count": 54,
   "id": "f2b42520",
   "metadata": {},
   "outputs": [
    {
     "data": {
      "text/plain": [
       "'https://www.imdb.com/title/tt10906350/?ref_=sr_t_1'"
      ]
     },
     "execution_count": 54,
     "metadata": {},
     "output_type": "execute_result"
    }
   ],
   "source": [
    "urllib.parse.urljoin(url, tree.find_all('a', {'class': 'ipc-title-link-wrapper'})[0].get('href'))"
   ]
  },
  {
   "cell_type": "code",
   "execution_count": 56,
   "id": "631c1c15",
   "metadata": {},
   "outputs": [
    {
     "data": {
      "text/plain": [
       "['https://www.imdb.com/title/tt10906350/?ref_=sr_t_1',\n",
       " 'https://www.imdb.com/title/tt7791184/?ref_=sr_t_2',\n",
       " 'https://www.imdb.com/title/tt10176792/?ref_=sr_t_3',\n",
       " 'https://www.imdb.com/title/tt10064444/?ref_=sr_t_4',\n",
       " 'https://www.imdb.com/title/tt13672466/?ref_=sr_t_5']"
      ]
     },
     "execution_count": 56,
     "metadata": {},
     "output_type": "execute_result"
    }
   ],
   "source": [
    "links50 = [urllib.parse.urljoin(url, tag.get('href')) \n",
    "           for tag in tree.find_all('a', {'class': 'ipc-title-link-wrapper'})]\n",
    "links50[:5]"
   ]
  },
  {
   "cell_type": "code",
   "execution_count": 58,
   "id": "c4ca5905",
   "metadata": {},
   "outputs": [
    {
     "data": {
      "text/plain": [
       "[('Le pont des oubliés', 'https://www.imdb.com/title/tt10906350/?ref_=sr_t_1'),\n",
       " (\"La Promesse de l'Eau\", 'https://www.imdb.com/title/tt7791184/?ref_=sr_t_2'),\n",
       " ('Si tu vois ma mère', 'https://www.imdb.com/title/tt10176792/?ref_=sr_t_3'),\n",
       " ('Un homme parfait', 'https://www.imdb.com/title/tt10064444/?ref_=sr_t_4'),\n",
       " ('Les secrets du château',\n",
       "  'https://www.imdb.com/title/tt13672466/?ref_=sr_t_5')]"
      ]
     },
     "execution_count": 58,
     "metadata": {},
     "output_type": "execute_result"
    }
   ],
   "source": [
    "all_movies_links = dict(zip(titles50, links50))\n",
    "list(all_movies_links.items())[:5]"
   ]
  },
  {
   "cell_type": "code",
   "execution_count": 60,
   "id": "f4ba3e48",
   "metadata": {},
   "outputs": [],
   "source": [
    "# all_movies_links"
   ]
  }
 ],
 "metadata": {
  "kernelspec": {
   "display_name": "Python 3 (ipykernel)",
   "language": "python",
   "name": "python3"
  },
  "language_info": {
   "codemirror_mode": {
    "name": "ipython",
    "version": 3
   },
   "file_extension": ".py",
   "mimetype": "text/x-python",
   "name": "python",
   "nbconvert_exporter": "python",
   "pygments_lexer": "ipython3",
   "version": "3.12.4"
  },
  "toc": {
   "base_numbering": 1,
   "nav_menu": {},
   "number_sections": true,
   "sideBar": true,
   "skip_h1_title": false,
   "title_cell": "Table of Contents",
   "title_sidebar": "Contents",
   "toc_cell": false,
   "toc_position": {},
   "toc_section_display": true,
   "toc_window_display": false
  }
 },
 "nbformat": 4,
 "nbformat_minor": 5
}
