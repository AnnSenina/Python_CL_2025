{
  "nbformat": 4,
  "nbformat_minor": 0,
  "metadata": {
    "colab": {
      "provenance": [],
      "authorship_tag": "ABX9TyN2/OuCBM0d47GC/k0X2Zg9",
      "include_colab_link": true
    },
    "kernelspec": {
      "name": "python3",
      "display_name": "Python 3"
    },
    "language_info": {
      "name": "python"
    }
  },
  "cells": [
    {
      "cell_type": "markdown",
      "metadata": {
        "id": "view-in-github",
        "colab_type": "text"
      },
      "source": [
        "<a href=\"https://colab.research.google.com/github/AnnSenina/Python_CL_2025/blob/main/notebooks/%D0%9F%D1%80%D0%B0%D0%BA%D1%82%D0%B8%D0%BA%D0%B0_%D0%BD%D0%B0_%D1%81%D0%B5%D0%BC%D0%B8%D0%BD%D0%B0%D1%80%D0%B5_(%D1%81_%D1%80%D0%B5%D1%88%D0%B5%D0%BD%D0%B8%D1%8F%D0%BC%D0%B8).ipynb\" target=\"_parent\"><img src=\"https://colab.research.google.com/assets/colab-badge.svg\" alt=\"Open In Colab\"/></a>"
      ]
    },
    {
      "cell_type": "markdown",
      "source": [
        "### Практика\n",
        "Загрузите в рабочую директорию архив practice.zip и выполните команду по его распаковке"
      ],
      "metadata": {
        "id": "INGJdc94N_Xe"
      }
    },
    {
      "cell_type": "code",
      "execution_count": null,
      "metadata": {
        "id": "JFY_n4vlN48p"
      },
      "outputs": [],
      "source": [
        "import os\n",
        "print(os.getcwd()) # напоминаю, что ваша рабочая директория здесь"
      ]
    },
    {
      "cell_type": "code",
      "source": [
        "import shutil\n",
        "shutil.unpack_archive('practice.zip') # распакует архив"
      ],
      "metadata": {
        "id": "C5k46o7YOYy9"
      },
      "execution_count": null,
      "outputs": []
    },
    {
      "cell_type": "markdown",
      "source": [
        "### Задание 1\n",
        "\n",
        "Откройте файл trust.txt (из папки task1) в режиме чтения и  сохраните его текст в переменную text"
      ],
      "metadata": {
        "id": "sd5dlAMJPCRp"
      }
    },
    {
      "cell_type": "code",
      "source": [
        "# ваш код\n",
        "\n"
      ],
      "metadata": {
        "id": "BOJgb2xDPN0x"
      },
      "execution_count": null,
      "outputs": []
    },
    {
      "cell_type": "code",
      "source": [
        "# @title\n",
        "# напоминаю, что путь для Windows пишется через \\\\\n",
        "with open('task1/trust.txt', 'r', encoding='utf-8') as f: # f, file, openfile и т.д. - переменная не важна\n",
        "  text = f.read()\n",
        "\n",
        "print(text)"
      ],
      "metadata": {
        "cellView": "form",
        "id": "vQEXwAP9PPv7"
      },
      "execution_count": null,
      "outputs": []
    },
    {
      "cell_type": "markdown",
      "source": [
        "### Задание 2\n",
        "Откройте файл trust_cod.txt в режиме чтения и взгляните на кодировку\n",
        "\n",
        "Чтобы файл открылся правильно, используйте кодировку 'cp1251'"
      ],
      "metadata": {
        "id": "yeeZglVIPdz4"
      }
    },
    {
      "cell_type": "code",
      "source": [
        "# ваш код\n",
        "\n"
      ],
      "metadata": {
        "id": "pzDLKP5XSWWc"
      },
      "execution_count": null,
      "outputs": []
    },
    {
      "cell_type": "code",
      "source": [
        "# @title\n",
        "with open('task2/trust_cod.txt', encoding='cp1251') as f: # f, file, openfile и т.д. - переменная не важна\n",
        "  text = f.read()\n",
        "\n",
        "print(text)"
      ],
      "metadata": {
        "cellView": "form",
        "id": "5dPPZugUPdLn"
      },
      "execution_count": null,
      "outputs": []
    },
    {
      "cell_type": "markdown",
      "source": [
        "### Задание 3\n",
        "В папке task3 лежит 3 текстовых файла.\n",
        "- получите содержимое этой папки в виде списка\n",
        "- переберите список циклом for\n",
        "- внутри цикла for прочитайте **только первый абзац** каждого файла и напечатайте его"
      ],
      "metadata": {
        "id": "dwVcVwI9SnN5"
      }
    },
    {
      "cell_type": "code",
      "source": [
        "# ваш код\n",
        "\n"
      ],
      "metadata": {
        "id": "BxN1sufjVNtk"
      },
      "execution_count": null,
      "outputs": []
    },
    {
      "cell_type": "code",
      "source": [
        "# @title\n",
        "\n",
        "for i in os.listdir('task3'):\n",
        "  with open('task3/' + i, 'r', encoding='utf-8') as f:\n",
        "    print(f.readline())"
      ],
      "metadata": {
        "cellView": "form",
        "id": "v3Vm_0ZvVPlG"
      },
      "execution_count": null,
      "outputs": []
    },
    {
      "cell_type": "markdown",
      "source": [
        "Давайте еще поработаем с этой же папкой:\n",
        "- напечатайте длину каждого текста в символах (для этого нужно прочитать весь текст и напечатать его длину - len() )\n",
        "- дополнительно: напечатайте ответ в виде: В файле <НАЗВАНИЕ ФАЙЛА> n симолов"
      ],
      "metadata": {
        "id": "DllqnGapV4HT"
      }
    },
    {
      "cell_type": "code",
      "source": [
        "# ваш код\n",
        "\n"
      ],
      "metadata": {
        "id": "c1NDu3rDV3c8"
      },
      "execution_count": null,
      "outputs": []
    },
    {
      "cell_type": "code",
      "source": [
        "# @title\n",
        "\n",
        "for i in os.listdir('task3'):\n",
        "  with open('task3/' + i, 'r', encoding='utf-8') as f:\n",
        "    n = len(f.read())\n",
        "    print(n)\n",
        "    #print('В файле', i, n, 'символов')"
      ],
      "metadata": {
        "cellView": "form",
        "id": "n7k0pfguWNse"
      },
      "execution_count": null,
      "outputs": []
    },
    {
      "cell_type": "markdown",
      "source": [
        "### Задание 4"
      ],
      "metadata": {
        "id": "Pyl3-1UtXWwv"
      }
    },
    {
      "cell_type": "markdown",
      "source": [
        "Напоминаю, что часто нам требуется пересобрать что-то нужное в новый список:"
      ],
      "metadata": {
        "id": "A7jiDD0QWnZU"
      }
    },
    {
      "cell_type": "code",
      "source": [
        "new_list = [] # пустой список\n",
        "\n",
        "for i in os.listdir('task4'):\n",
        "  with open('task4/' + i, 'r', encoding='utf-8') as f:\n",
        "    text = f.readline() # прочитаем только 1 абзац\n",
        "    new_list.append(text) # в список new_list добавь элемент text\n",
        "\n",
        "new_list # смотрим, что получилось"
      ],
      "metadata": {
        "id": "yn-xvTcJWmg5"
      },
      "execution_count": null,
      "outputs": []
    },
    {
      "cell_type": "markdown",
      "source": [
        "Код выше перебирает все файлы из папки task4, читает только 1 абзац, затем сохраняет его в виде текстовой строки в список new_list\n",
        "\n",
        "- Создайте новый файл в папке task4, назовите его introductions.txt (в режиме 'w' или 'a')\n",
        "- Переберите циклом список new_list\n",
        "- каждую строку из new_list по очереди запишите в introductions.txt\n",
        "\n",
        "ИЛИ:\n",
        "- Склейте список в строку методом join через '\\n'\n",
        "- Запишите строку в файл (результат аналогичен)"
      ],
      "metadata": {
        "id": "4GCtIUrSXreQ"
      }
    },
    {
      "cell_type": "code",
      "source": [
        "# ваш код\n",
        "\n"
      ],
      "metadata": {
        "id": "twEaMkzobqBe"
      },
      "execution_count": null,
      "outputs": []
    },
    {
      "cell_type": "code",
      "source": [
        "# @title\n",
        "\n",
        "with open('task4/introductions.txt', 'a', encoding='utf-8') as f:\n",
        "  for i in new_list:\n",
        "    f.write(i)\n",
        "    # ИЛИ print(i, file=f)\n",
        "\n",
        "  # ИЛИ, вне цикла:\n",
        "  # f.write('\\n'.join(new_list))"
      ],
      "metadata": {
        "cellView": "form",
        "id": "Q93FiSxjXVqS"
      },
      "execution_count": null,
      "outputs": []
    },
    {
      "cell_type": "markdown",
      "source": [
        "### Задание 5\n",
        "\n",
        "В папке task5 лежит 6 тыс. файлов txt\n",
        "\n",
        "Соберите из них корпус:\n",
        "- получите названия всех файлов из task5 в виде списка с помощью os.listdir()\n",
        "- пройдите по этому списку циклом for:\n",
        "  - считайте текст из каждого файла в переменную text\n",
        "  - добавьте text в список corpus\n",
        "- затем проверьте длину корпуса с помощью len"
      ],
      "metadata": {
        "id": "M4l_wYSFkYfh"
      }
    },
    {
      "cell_type": "code",
      "source": [
        "corpus = []\n",
        "# ваш код\n",
        "\n"
      ],
      "metadata": {
        "id": "Pjq_9CAxk6-V"
      },
      "execution_count": null,
      "outputs": []
    },
    {
      "cell_type": "code",
      "source": [
        "# @title\n",
        "\n",
        "corpus = []\n",
        "\n",
        "for i in os.listdir('task5'):\n",
        "  with open('task5/' + i, 'r', encoding='utf-8') as f:\n",
        "    text = f.read()\n",
        "    corpus.append(text)\n",
        "\n",
        "len(corpus)"
      ],
      "metadata": {
        "cellView": "form",
        "id": "1G9zcKcJk9lt"
      },
      "execution_count": null,
      "outputs": []
    },
    {
      "cell_type": "markdown",
      "source": [
        "### Задание 6\n",
        "\n",
        "В task6 сложная структура: у вас есть несколько вложенных папок, в каждой из которых лежит от 1 до 3 текстовых файла\n",
        "\n",
        "- получите название всех вложенных папок в виде списка os.listdir('task6')\n",
        "- пройдитесь по этому списку циклом for, запрашивая содержимое каждой вложенной папки в виде списка os.listdir('task6/' + вложенная_папка)\n",
        "- затем создайте новый цикл for, которых проходит по названиям фалов во вложенной папке, считывает текст в переменную text, затем добавляет ее в конец списка all_texts\n",
        "\n",
        "(дополнительно) можно также попробовать через `os.walk()`"
      ],
      "metadata": {
        "id": "Ku8ZpU-Gb3As"
      }
    },
    {
      "cell_type": "code",
      "source": [
        "all_texts = []\n",
        "\n",
        "for folder in # продолжите цикл\n",
        "  for txt_file in # продолжите вложенный цикл\n",
        "    with open # продолжите программу..."
      ],
      "metadata": {
        "id": "t3xFy_gci9ry"
      },
      "execution_count": null,
      "outputs": []
    },
    {
      "cell_type": "code",
      "source": [
        "# @title\n",
        "all_texts = []\n",
        "\n",
        "for folder in os.listdir('task6'):\n",
        "  for txt_file in os.listdir('task6/' + folder):\n",
        "    with open('task6/' + folder + '/' + txt_file, 'r', encoding='utf-8') as f:\n",
        "      text = f.read()\n",
        "      all_texts.append(text)\n",
        "\n",
        "# ИЛИ (лучше):\n",
        "#for i in list(os.walk('task6')):\n",
        "#  for txt_file in i[-1]:\n",
        "#    with open(i[0] + '/' + txt_file, 'r', encoding='utf-8') as f:\n",
        "#      text = f.read()\n",
        "#      all_texts.append(text)\n",
        "\n",
        "print(len(all_texts)) # должно быть 9 текстов"
      ],
      "metadata": {
        "cellView": "form",
        "id": "_bJdjX0sjMoF"
      },
      "execution_count": null,
      "outputs": []
    },
    {
      "cell_type": "markdown",
      "source": [
        "Тексты в заданиях 1-2: \"Трест, который лопнул\" О. Генри\n",
        "\n",
        "Тексты из заданий 3-4:\n",
        "- 10 место \"Хорошо ловится рыбка-бананка\" Сэлинджера\n",
        "- 9 место \"Хоббит, или туда и обратно\" Толкина\n",
        "- 8 место \"В чаще\" Акутагавы\n",
        "- 7 место \"Воронья дорога\" Бэнкса\n",
        "- 6 место \"Сто лет одиночества\" Маркеса\n",
        "- 5 место \"Посторонний\" Камю\n",
        "- 4 место \"Итака\" Кавафиса\n",
        "- 3 место \"Мёрфи\" Беккета\n",
        "- 2 место \"Превращение\" Кафки\n",
        "- 1 место \"1984\" Оруэлла\n",
        "\n",
        "Отсюда:\n",
        "\n",
        "https://www.youtube.com/watch?v=pvFE2PfB9RQ\n",
        "\n",
        "https://www.youtube.com/watch?v=01H05fZ_1Pk\n",
        "\n",
        "В задании 5 используется архив от моего коллеги Д. Скоринкина\n",
        "\n",
        "В задании 6 - \"Девять рассказов\" Сэлинджера"
      ],
      "metadata": {
        "id": "mDyUoqjcedLu"
      }
    }
  ]
}