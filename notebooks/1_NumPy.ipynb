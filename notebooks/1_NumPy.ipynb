{
  "nbformat": 4,
  "nbformat_minor": 0,
  "metadata": {
    "colab": {
      "provenance": [],
      "include_colab_link": true
    },
    "kernelspec": {
      "name": "python3",
      "display_name": "Python 3"
    },
    "language_info": {
      "name": "python"
    }
  },
  "cells": [
    {
      "cell_type": "markdown",
      "metadata": {
        "id": "view-in-github",
        "colab_type": "text"
      },
      "source": [
        "<a href=\"https://colab.research.google.com/github/AnnSenina/Python_CL_2025/blob/main/notebooks/1_NumPy.ipynb\" target=\"_parent\"><img src=\"https://colab.research.google.com/assets/colab-badge.svg\" alt=\"Open In Colab\"/></a>"
      ]
    },
    {
      "cell_type": "markdown",
      "source": [
        "# numpy\n",
        "\n",
        "Сайт: https://numpy.org/\n",
        "\n",
        "Документация: https://numpy.org/devdocs/user/whatisnumpy.html\n",
        "\n",
        "Вводный гайд: https://numpy.org/numpy-tutorials/\n",
        "\n",
        "Наглядно о том, как работает NumPy: https://habr.com/ru/companies/skillfactory/articles/564240/ (Хабр)"
      ],
      "metadata": {
        "id": "piyA-SPTcwJD"
      }
    },
    {
      "cell_type": "code",
      "source": [
        "# !pip install numpy\n",
        "import numpy as np"
      ],
      "metadata": {
        "id": "Drw2dRuMd_st"
      },
      "execution_count": 1,
      "outputs": []
    },
    {
      "cell_type": "code",
      "execution_count": null,
      "metadata": {
        "id": "bfq-NG8acq3S"
      },
      "outputs": [],
      "source": [
        "# отличия от списков: 1\n",
        "list1 = [1, 2, 6, 10]\n",
        "list2 = [66, 54, 989, 1530]\n",
        "\n",
        "print(list1 + list2)"
      ]
    },
    {
      "cell_type": "code",
      "source": [
        "array1 = np.array([1, 2, 6, 10])\n",
        "print(array1)"
      ],
      "metadata": {
        "id": "HfxVH3jfeIwR"
      },
      "execution_count": null,
      "outputs": []
    },
    {
      "cell_type": "code",
      "source": [
        "array2 = np.array([66, 54, 989, 1530])\n",
        "array1 + array2 # попарно сложились"
      ],
      "metadata": {
        "id": "r_46cfJZeSa5"
      },
      "execution_count": null,
      "outputs": []
    },
    {
      "cell_type": "code",
      "source": [
        "# отличия от списков: 2\n",
        "list3 = [1, 2, 3, 4, 5, '6']\n",
        "array3 = np.array([1, 2, 3, 4, 5, '6'])\n",
        "print(array3)\n",
        "array3 = np.array([1, 0, 1, 1, 0, False])\n",
        "print(array3) # только один тип данных"
      ],
      "metadata": {
        "id": "pSyyuQQMfqdI"
      },
      "execution_count": null,
      "outputs": []
    },
    {
      "cell_type": "markdown",
      "source": [
        "Еще немного об операциях с массивами"
      ],
      "metadata": {
        "id": "6AFT6nRrgfHP"
      }
    },
    {
      "cell_type": "code",
      "source": [
        "array1 = np.array([1, 2, 6, 10])\n",
        "array1 > 5 # такая же логика будет при фильтрации датафрейма"
      ],
      "metadata": {
        "id": "ecGhCbYbt3EM"
      },
      "execution_count": null,
      "outputs": []
    },
    {
      "cell_type": "code",
      "source": [
        "arr = np.array([1, 2, 3, 4, 5])\n",
        "\n",
        "print(arr.max(), arr.min(), arr.sum(), arr.mean(), sep=', ')\n",
        "\n",
        "arr = np.sqrt(arr)\n",
        "print(arr)\n",
        "\n",
        "arr = np.sin(arr)\n",
        "print(arr)\n",
        "\n",
        "arr = np.cos(arr)\n",
        "print(arr)\n",
        "\n",
        "arr = np.log(arr)\n",
        "print(arr)\n",
        "\n",
        "arr = np.exp(arr)\n",
        "print(arr)"
      ],
      "metadata": {
        "id": "aZEkUiu1uVZM"
      },
      "execution_count": null,
      "outputs": []
    },
    {
      "cell_type": "code",
      "source": [
        "print(array1 * array2) # объекты попарно перемножились\n",
        "print(np.dot(array1, array2)) # .dot() - скалярное произведение массивов"
      ],
      "metadata": {
        "id": "uCyfwXR1ehd1"
      },
      "execution_count": null,
      "outputs": []
    },
    {
      "cell_type": "code",
      "source": [
        "# идексация\n",
        "print(array1)\n",
        "print(array1[0])\n",
        "print(array1[2:])"
      ],
      "metadata": {
        "id": "qlmX5tzIfIvz"
      },
      "execution_count": null,
      "outputs": []
    },
    {
      "cell_type": "code",
      "source": [
        "array4 = np.array([[1,2],[3,4]])\n",
        "print(array4)\n",
        "print(array4[0])\n",
        "print(array4[0][1])"
      ],
      "metadata": {
        "id": "2b9jw3Q5fcfo"
      },
      "execution_count": null,
      "outputs": []
    },
    {
      "cell_type": "code",
      "source": [
        "matrix = np.array([[1, 2, 3],\n",
        "                   [4, 5, 6],\n",
        "                   [7, 8, 9]])\n",
        "print(matrix)\n",
        "print(matrix[0]) # 1 строка\n",
        "print(matrix[0,2]) # 3 элемент 1 строки\n",
        "print(matrix[:, 2]) # 3 столбец"
      ],
      "metadata": {
        "id": "GbVTRhZ7ilS3"
      },
      "execution_count": null,
      "outputs": []
    },
    {
      "cell_type": "code",
      "source": [
        "print(array1)\n",
        "print(array1.shape) # размерность"
      ],
      "metadata": {
        "id": "byyYfnczkQyv"
      },
      "execution_count": null,
      "outputs": []
    },
    {
      "cell_type": "code",
      "source": [
        "print(matrix)\n",
        "print(matrix.shape) # размерность"
      ],
      "metadata": {
        "id": "GMaIfO16kjMb"
      },
      "execution_count": null,
      "outputs": []
    },
    {
      "cell_type": "markdown",
      "source": [
        "Случайные числа"
      ],
      "metadata": {
        "id": "pf3eDuaLlZLf"
      }
    },
    {
      "cell_type": "code",
      "source": [
        "a = np.random.rand(10) # 10 случаных чисел\n",
        "print(a)\n",
        "b = np.random.rand(3, 2) # 3 строки, 2 столбца слуайных чисел\n",
        "print(b)"
      ],
      "metadata": {
        "id": "ujYw8hC1k9Nt"
      },
      "execution_count": null,
      "outputs": []
    },
    {
      "cell_type": "code",
      "source": [
        "c = np.random.randint(-10, 10)\n",
        "print(c)\n",
        "d = np.random.randint(-10, 10, size=5)\n",
        "print(d)\n",
        "e = np.random.randint(-10, 10, size=[2, 5])\n",
        "print(e)"
      ],
      "metadata": {
        "id": "YIuCj83zly-b"
      },
      "execution_count": null,
      "outputs": []
    },
    {
      "cell_type": "code",
      "source": [
        "# изменение размерности массива\n",
        "e = np.random.randint(-10, 10, size=[2, 5])\n",
        "print(e)\n",
        "print(e.reshape(5, 2))"
      ],
      "metadata": {
        "id": "ml7732romRYs"
      },
      "execution_count": null,
      "outputs": []
    },
    {
      "cell_type": "markdown",
      "source": [
        "На практике (в ML) часто вам нужно будет менять размерность массива\n",
        "\n",
        "Например, массив `e` представить 1 строкой / 1 столбцом"
      ],
      "metadata": {
        "id": "TsSuASt-LxcI"
      }
    },
    {
      "cell_type": "code",
      "source": [
        "e = np.random.randint(-10, 10, size=[2, 5])\n",
        "print(e)\n",
        "print(e.reshape(1, 10))"
      ],
      "metadata": {
        "id": "8u6W4XoBLwyi"
      },
      "execution_count": null,
      "outputs": []
    },
    {
      "cell_type": "code",
      "source": [
        "# если мы можем задать форму (1 столбец), но не хотим сами считать количество строк (и наоборот),\n",
        "# можно использовать -1 (тогда numpy сам вычислит вторую характеристику исходя из количества элементов)\n",
        "print(e.reshape(-1, 1)) # аналогично e.reshape(10, 1)\n",
        "print(e.reshape(1, -1)) # аналогично e.reshape(1, 10)"
      ],
      "metadata": {
        "id": "3tm9ik77OIGs"
      },
      "execution_count": null,
      "outputs": []
    },
    {
      "cell_type": "markdown",
      "source": [
        "### Практика:\n",
        "\n",
        "У вас есть массив из миллиона случаных чисел. Умножьте каждое из них на 100 с помощью цикла for / умножения массива numpy, измерив время выполнения команды\n"
      ],
      "metadata": {
        "id": "Ih_4XbcTniVF"
      }
    },
    {
      "cell_type": "code",
      "source": [
        "n = np.random.rand(1000000)\n",
        "n"
      ],
      "metadata": {
        "id": "DHTGjKl7ntab"
      },
      "execution_count": null,
      "outputs": []
    },
    {
      "cell_type": "code",
      "source": [
        "%%time\n",
        "# создайте пустой список и добавьте в него все элементы, умножая каждый на 100\n"
      ],
      "metadata": {
        "id": "7ueJsIUAn6WU"
      },
      "execution_count": null,
      "outputs": []
    },
    {
      "cell_type": "code",
      "source": [
        "%%time\n",
        "# умножьте массив n на 100\n"
      ],
      "metadata": {
        "id": "RD8XK9orn6JX"
      },
      "execution_count": null,
      "outputs": []
    },
    {
      "cell_type": "code",
      "source": [
        "# @title\n",
        "%%timeit\n",
        "\n",
        "res = []\n",
        "for i in n:\n",
        "  res.append(i * 100)"
      ],
      "metadata": {
        "cellView": "form",
        "id": "XyKbIZNvqA_t"
      },
      "execution_count": null,
      "outputs": []
    },
    {
      "cell_type": "code",
      "source": [
        "# @title\n",
        "%%time\n",
        "\n",
        "res = n * 100"
      ],
      "metadata": {
        "cellView": "form",
        "id": "yIphXIAUp2yX"
      },
      "execution_count": null,
      "outputs": []
    }
  ]
}