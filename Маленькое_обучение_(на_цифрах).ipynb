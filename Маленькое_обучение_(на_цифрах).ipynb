{
  "nbformat": 4,
  "nbformat_minor": 0,
  "metadata": {
    "colab": {
      "provenance": [],
      "include_colab_link": true
    },
    "kernelspec": {
      "name": "python3",
      "display_name": "Python 3"
    },
    "language_info": {
      "name": "python"
    }
  },
  "cells": [
    {
      "cell_type": "markdown",
      "metadata": {
        "id": "view-in-github",
        "colab_type": "text"
      },
      "source": [
        "<a href=\"https://colab.research.google.com/github/AnnSenina/Python_CL_2025/blob/main/%D0%9C%D0%B0%D0%BB%D0%B5%D0%BD%D1%8C%D0%BA%D0%BE%D0%B5_%D0%BE%D0%B1%D1%83%D1%87%D0%B5%D0%BD%D0%B8%D0%B5_(%D0%BD%D0%B0_%D1%86%D0%B8%D1%84%D1%80%D0%B0%D1%85).ipynb\" target=\"_parent\"><img src=\"https://colab.research.google.com/assets/colab-badge.svg\" alt=\"Open In Colab\"/></a>"
      ]
    },
    {
      "cell_type": "markdown",
      "source": [
        "# Начнем с очистки данных и дойдем до линейной регрессии\n",
        "\n",
        "План примерно такой:\n",
        "\n",
        "1. подготовим данные для анализа:\n",
        "  - проверим типы данных, пропуски, выбросы\n",
        "  - посмотрим готовую библиотеку, которая сделает это за вас\n",
        "2. Найдем наиболее сильную линейную связь - построим самую простую модель регресии\n",
        "3. Посмотрим в перспективу: как улучшать и как использовать\n"
      ],
      "metadata": {
        "id": "Kg7aOJZpEQOp"
      }
    },
    {
      "cell_type": "code",
      "source": [
        "# читаем данные, источник - https://www.kaggle.com/datasets/denkuznetz/food-delivery-time-prediction/data\n",
        "import pandas as pd\n",
        "delivery = pd.read_csv('https://github.com/AnnSenina/Other/raw/refs/heads/main/Food_Delivery_Times.csv')\n",
        "delivery.head(3)"
      ],
      "metadata": {
        "id": "eu_maif9EKNt"
      },
      "execution_count": null,
      "outputs": []
    },
    {
      "cell_type": "code",
      "source": [
        "df = delivery.copy()"
      ],
      "metadata": {
        "id": "Ha95_EagKxPU"
      },
      "execution_count": null,
      "outputs": []
    },
    {
      "cell_type": "code",
      "source": [
        "df.drop('Order_ID', axis=1, inplace=True)"
      ],
      "metadata": {
        "id": "pjAxoVJRKMgC"
      },
      "execution_count": null,
      "outputs": []
    },
    {
      "cell_type": "code",
      "source": [
        "df.info()\n",
        "# пропуски в Weather, Traffic_Level, Time_of_Day, Courier_Experience_yrs"
      ],
      "metadata": {
        "id": "lUka5T-eFNKX"
      },
      "execution_count": null,
      "outputs": []
    },
    {
      "cell_type": "code",
      "source": [
        "# отфильтруем или заполним мерами среднего\n",
        "df['Weather'] = df['Weather'].fillna(df['Weather'].mode()[0])\n",
        "df['Traffic_Level'] = df['Traffic_Level'].fillna(df['Traffic_Level'].mode()[0])\n",
        "df['Time_of_Day'] = df['Time_of_Day'].fillna(df['Time_of_Day'].mode()[0])\n",
        "df['Courier_Experience_yrs'] = df['Courier_Experience_yrs'].fillna(df['Courier_Experience_yrs'].median())\n",
        "df.info()"
      ],
      "metadata": {
        "id": "iVxLwO_mIXxh"
      },
      "execution_count": null,
      "outputs": []
    },
    {
      "cell_type": "code",
      "source": [
        "df.describe(include='all')\n",
        "# Traffic_Level - порядкова шкала, можно перекодировать"
      ],
      "metadata": {
        "id": "nAIkPL9LI_P4"
      },
      "execution_count": null,
      "outputs": []
    },
    {
      "cell_type": "code",
      "source": [
        "df['Traffic_Level'].value_counts()"
      ],
      "metadata": {
        "id": "Zz3BYNDgF_iu"
      },
      "execution_count": null,
      "outputs": []
    },
    {
      "cell_type": "code",
      "source": [
        "# Traffic_Level - порядковая шкала, можно перекодировать\n",
        "df['Traffic_Level'] = df['Traffic_Level'].apply(lambda x: 0 if x == 'Low' else (1 if x == 'Medium' else 2))"
      ],
      "metadata": {
        "id": "6ujAygU8Jbcn"
      },
      "execution_count": null,
      "outputs": []
    },
    {
      "cell_type": "markdown",
      "source": [
        "### Стандартизация\n",
        "\n",
        "Стандартизация наборов данных является общим требованием для многих моделей машинного обучения, реализованных в scikit-learn; отдельные признаки должны быть более или менее похожи на стандартные нормально распределенные данные: гауссовы с нулевым средним и единичной дисперсией\n",
        "\n",
        "В sklearn есть несколько вариантов стандартизации. Один из самых распространенных и быстрых: StandardScalar: после масштабирования данные имеют нулевое среднее значение и единичную дисперсию\n",
        "\n",
        "Другие: например, MinMaxScaler, normalize\n",
        "\n",
        "[Документация](https://scikit-learn.ru/6-3-preprocessing-data/)"
      ],
      "metadata": {
        "id": "_3-VvDTlH0Ir"
      }
    },
    {
      "cell_type": "code",
      "source": [
        "# Посмотрим на одном столбце:\n",
        "#!pip install -U scikit-learn\n",
        "\n",
        "from sklearn.preprocessing import StandardScaler\n",
        "scaler = StandardScaler()\n",
        "\n",
        "df['Delivery_Time_min'] = scaler.fit_transform(df['Delivery_Time_min'].values.reshape(-1, 1))\n",
        "df.head(3)"
      ],
      "metadata": {
        "id": "bQhnDfizG3ZB"
      },
      "execution_count": null,
      "outputs": []
    },
    {
      "cell_type": "code",
      "source": [
        "print(round(df['Delivery_Time_min'].mean(), 0))\n",
        "print(round(df['Delivery_Time_min'].std(), 0))"
      ],
      "metadata": {
        "id": "dsLEjccdIjnx"
      },
      "execution_count": null,
      "outputs": []
    },
    {
      "cell_type": "code",
      "source": [
        "# Подготовим все числовые столбцы к анализу: у нас есть минуты, километры, опыт курьера в годах\n",
        "def scale_features(df):\n",
        "    scaled = scaler.fit_transform(df)\n",
        "    scaled = pd.DataFrame(scaled, columns=df.columns)\n",
        "    return scaled\n",
        "\n",
        "df_num = df.select_dtypes(include=['int64', 'float64'])\n",
        "\n",
        "import matplotlib.pyplot as plt\n",
        "plt.figure(figsize=(10, 5))\n",
        "scale_features(df_num).boxplot()\n",
        "plt.xticks(rotation=90);"
      ],
      "metadata": {
        "id": "UF6JIvsYLjSs"
      },
      "execution_count": null,
      "outputs": []
    },
    {
      "cell_type": "code",
      "source": [
        "# применим функцию, которая посчитает выбросы в каждом столбеце:\n",
        "def detect_outliers(column):\n",
        "    Q1 = column.quantile(0.25)\n",
        "    Q3 = column.quantile(0.75)\n",
        "    IQR = Q3 - Q1\n",
        "    lower_bound = Q1 - 1.5 * IQR\n",
        "    upper_bound = Q3 + 1.5 * IQR\n",
        "    outliers = column[(column < lower_bound) | (column > upper_bound)]\n",
        "    return len(outliers)\n",
        "\n",
        "outliers_count = df_num.apply(detect_outliers)\n",
        "outliers_count\n",
        "# в идеале выбросы нужно отфильтровать"
      ],
      "metadata": {
        "id": "sLwXF-hxMXUQ"
      },
      "execution_count": null,
      "outputs": []
    },
    {
      "cell_type": "markdown",
      "source": [
        "### Бонус\n",
        "\n",
        "Есть библиотеки, которые сделают многое все за вас"
      ],
      "metadata": {
        "id": "v-XGoxgsQbIS"
      }
    },
    {
      "cell_type": "code",
      "source": [
        "!pip install clean-df"
      ],
      "metadata": {
        "id": "bostkB3KPQgM"
      },
      "execution_count": null,
      "outputs": []
    },
    {
      "cell_type": "code",
      "source": [
        "from clean_df import CleanDataFrame\n",
        "\n",
        "cdf = CleanDataFrame(df=delivery)"
      ],
      "metadata": {
        "id": "VA6L88L1PTjM"
      },
      "execution_count": null,
      "outputs": []
    },
    {
      "cell_type": "code",
      "source": [
        "cdf.report()"
      ],
      "metadata": {
        "id": "UlbO_bx1PdP-"
      },
      "execution_count": null,
      "outputs": []
    },
    {
      "cell_type": "markdown",
      "source": [
        "### Подготовка завершена -> регрессия\n",
        "(на самом деле, я не особо поработала с категориальными переменными, но сойдет)"
      ],
      "metadata": {
        "id": "zhjDj3psLsGK"
      }
    },
    {
      "cell_type": "code",
      "source": [
        "# библиотеки\n",
        "import seaborn as sns\n",
        "import scipy.stats\n",
        "from sklearn.model_selection import train_test_split\n",
        "from sklearn.linear_model import LinearRegression\n",
        "from sklearn import metrics\n",
        "import numpy as np"
      ],
      "metadata": {
        "id": "NAwHef-2L3Hh"
      },
      "execution_count": null,
      "outputs": []
    },
    {
      "cell_type": "code",
      "source": [
        "df_num.corr()"
      ],
      "metadata": {
        "id": "n-JMiB9UMEHD"
      },
      "execution_count": null,
      "outputs": []
    },
    {
      "cell_type": "code",
      "source": [
        "plt.figure(figsize = (12,8))\n",
        "sns.heatmap(df_num.corr(method='spearman'), annot = True, cmap='RdYlGn');"
      ],
      "metadata": {
        "id": "x9GPdRnFMpc2"
      },
      "execution_count": null,
      "outputs": []
    },
    {
      "cell_type": "code",
      "source": [
        "plt.scatter(df_num['Delivery_Time_min'], df_num['Distance_km']);"
      ],
      "metadata": {
        "id": "IgS_JiLZM0d1"
      },
      "execution_count": null,
      "outputs": []
    },
    {
      "cell_type": "code",
      "source": [
        "# функция линейной регрессии Y = a + bX\n",
        "\n",
        "x = df_num['Distance_km']\n",
        "y = df_num['Delivery_Time_min']\n",
        "res = scipy.stats.linregress(x, y)\n",
        "print(res)\n",
        "\n",
        "print(round(res.rvalue**2, 2), 'коэффициент детерминации = 1 минус доля необъяснённой дисперсии')"
      ],
      "metadata": {
        "id": "xNbIbPlnNAJF"
      },
      "execution_count": null,
      "outputs": []
    },
    {
      "cell_type": "code",
      "source": [
        "# функция линейной регрессии Y = a + bX\n",
        "\n",
        "plt.plot(x, y, 'o', label='оригинальные данные')\n",
        "plt.plot(x, res.intercept + res.slope*x, 'r', label='линия регрессии')\n",
        "plt.legend();\n",
        "# intercept - число, которое мы прибавляем в уравнении\n",
        "# slope - коэффициент для х (а также наклон линии)"
      ],
      "metadata": {
        "id": "Y6lO1ixaNIZY"
      },
      "execution_count": null,
      "outputs": []
    },
    {
      "cell_type": "markdown",
      "source": [
        "Способ получше"
      ],
      "metadata": {
        "id": "xJb_JKMWNslq"
      }
    },
    {
      "cell_type": "code",
      "source": [
        "x = df_num[['Distance_km']]\n",
        "y = df_num['Delivery_Time_min']\n",
        "x_train, x_test, y_train, y_test = train_test_split(x, y, test_size = 0.3, random_state = 42)\n",
        "# 70% данных - для обучения (train - тренировочные данные)\n",
        "# 30% данных - для проверки, насколько модель точна (test - тестовые данные)\n",
        "# random_state - восропроизводимость результата"
      ],
      "metadata": {
        "id": "qZjkY1_rNqrj"
      },
      "execution_count": null,
      "outputs": []
    },
    {
      "cell_type": "code",
      "source": [
        "model = LinearRegression().fit(x_train, y_train)\n",
        "y_pred = model.predict(x_test)\n",
        "df_reg = pd.DataFrame({'Actual': y_test, 'Predicted': y_pred})\n",
        "df_reg"
      ],
      "metadata": {
        "id": "Y2-XW4KsN3AU"
      },
      "execution_count": null,
      "outputs": []
    },
    {
      "cell_type": "code",
      "source": [
        "# коэффициент детерминации\n",
        "metrics.r2_score(y_test, y_pred)"
      ],
      "metadata": {
        "id": "lDDR5SxAN2-i"
      },
      "execution_count": null,
      "outputs": []
    },
    {
      "cell_type": "markdown",
      "source": [
        "А как улучшать дальше? (например, передать больше признаков)"
      ],
      "metadata": {
        "id": "TTV4nGvCOLeW"
      }
    },
    {
      "cell_type": "code",
      "source": [
        "x = df_num[['Distance_km', 'Preparation_Time_min', 'Traffic_Level', 'Courier_Experience_yrs']]\n",
        "y = df_num['Delivery_Time_min']\n",
        "x_train, x_test, y_train, y_test = train_test_split(x, y, test_size = 0.3, random_state = 42)\n",
        "model = LinearRegression().fit(x_train, y_train)\n",
        "y_pred = model.predict(x_test)\n",
        "\n",
        "# точность модели должна вырасти\n",
        "metrics.r2_score(y_test, y_pred)"
      ],
      "metadata": {
        "id": "Ek1ZqAvlOWBK"
      },
      "execution_count": null,
      "outputs": []
    }
  ]
}